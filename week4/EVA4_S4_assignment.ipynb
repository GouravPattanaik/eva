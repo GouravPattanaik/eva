{
 "cells": [
  {
   "cell_type": "code",
   "execution_count": 7,
   "metadata": {},
   "outputs": [],
   "source": [
    "from IPython.core.interactiveshell import InteractiveShell\n",
    "InteractiveShell.ast_node_interactivity='all'"
   ]
  },
  {
   "cell_type": "code",
   "execution_count": 8,
   "metadata": {
    "colab": {},
    "colab_type": "code",
    "id": "0m2JWFliFfKT"
   },
   "outputs": [
    {
     "name": "stderr",
     "output_type": "stream",
     "text": [
      "C:\\Users\\ojhaj\\Anaconda3\\lib\\site-packages\\numpy\\core\\__init__.py:29: UserWarning: loaded more than 1 DLL from .libs:\n",
      "C:\\Users\\ojhaj\\Anaconda3\\lib\\site-packages\\numpy\\.libs\\libopenblas.IPBC74C7KURV7CB2PKT5Z5FNR3SIBV4J.gfortran-win_amd64.dll\n",
      "C:\\Users\\ojhaj\\Anaconda3\\lib\\site-packages\\numpy\\.libs\\libopenblas.txa6yqsd3gcqqc22geq54j2udcxdxhwn.gfortran-win_amd64.dll\n",
      "  stacklevel=1)\n"
     ]
    },
    {
     "data": {
      "text/plain": [
       "<torch._C.Generator at 0x23355099230>"
      ]
     },
     "execution_count": 8,
     "metadata": {},
     "output_type": "execute_result"
    }
   ],
   "source": [
    "from __future__ import print_function\n",
    "import torch\n",
    "import torch.nn as nn\n",
    "import torch.nn.functional as F\n",
    "import torch.optim as optim\n",
    "from torchvision import datasets, transforms\n",
    "from matplotlib import pyplot as plt\n",
    "from tqdm import tqdm\n",
    "from torchsummary import summary\n",
    "import numpy as np\n",
    "%matplotlib inline\n",
    "torch.cuda.manual_seed_all(1)\n",
    "torch.manual_seed(1)\n",
    "np.random.seed(1)"
   ]
  },
  {
   "cell_type": "markdown",
   "metadata": {},
   "source": [
    "#### Here is the step-by-step approach, being taken to achieve the required goals (meeting 99.4%+ accuracy, under the required parameters: <=20K and within 20 epochs) :\n",
    " \n",
    "Fix up the required architecture/layer-organization...in terms of choosing the number of kernels for each layer, am trying to follow a 'multiple-of-8' numbers (from 8, 16, 24, 32...etc):\n",
    "\n",
    " Architecture will have 3 \"components\":\n",
    " \n",
    " 1. One initial,\"image-conv2d\" layer at the begining, to convolve over the \"original image\" channels, am \n",
    "    initially providing 8 number of kernels for this 'separate' layer (which feeds in to the next  \n",
    "    \"2-conv2d-layer-block\").It needs to be noted that this 1 initial layer + The 2 following layers(for\n",
    "    \"2-conv2d-layer-block\") provide receptive field of 7x7 pixels(3->5->7) sufficient for the MNIST datset's\n",
    "    edges & gradient generation.In this evolution-experiment, kernel numbers numbers started out as 8 initially, \n",
    "    but in the final architecture(which met the requirements) it became 16.\n",
    "    \n",
    "\t\n",
    " 2. conv2d-BLOCK with 2 layers (in this case):\n",
    "    This block will be placed after the first \"image-conv2d\" layer, and one more instance of this block, will \n",
    "    also follow the transition-block (explained below) later.\n",
    "    In this evolution-experiment, kernel numbers numbers initially started out as (8-16) for the 'first-2-layer-block'\n",
    "    & (8-16) for the 'second-2-layer-block', but in the final architecture(which met the requirements) it\n",
    "    became (16-16) for the 'first-2-layer-block' & (24-24) for the 'second-2-layer-block'.\n",
    "    \n",
    "    \n",
    " 3. Transition Blocks:\n",
    "    1st transition layer, with both max-pool(k=2,s=2) and a-1x1-feature-merger kernel, following the\n",
    "    'first-2-layer-block'.\n",
    "    2nd transition layer, towards the end (following the 2nd conv2d-block) which does NOT have\n",
    "    the maxpool (i.e. just has one 1x1-feature-merger operator), and followed by the Global\n",
    "    Average Pooling (GAP) layer leading upto the Softmax layer.    \n",
    "    Here, at the end, we have another 'organization-possibility' i.e. we can also have a GAP layer followed\n",
    "    by a 1x1 operator (which actually resembles a fully-connected(FC) layer in this case. (Note: for my \n",
    "    experiments, am finding that the 1x1, followed by GAP gave BETTER results, as compared to GAP followed\n",
    "    by 1x1(in a FC-way).\n",
    "    Hence, will be showing this evolution of incremental changes to 1x1->GAP organization rather than \n",
    "    GAP->1x1 (though, the first 2 networks(NW) below show both of them, but later iterations build upon\n",
    "    the basic-NW having '1x1->GAP' organization only)\n",
    "\n",
    "\n",
    "### Architecture (i.e. in terms of channels used across individual layers):\n",
    "\n",
    "    \n",
    "    i.   \"image-conv2d\" layer: o/p initially 8 channels (becomes 16 in the final one)\n",
    "    \n",
    "    ii.  2 similar conv2d blocks, with:\n",
    "    \n",
    "              1st layer: (8-16) o/p channels (becomes (16-16) in the final one)\n",
    "\t\t\t \n",
    "              2nd layer: (8-16) o/p channels (becomes (24-24) in the final one)\n",
    "\t      \n",
    "    iii. 1x1 conv2d for 2nd transition-layer: 10 o/p channels(for num-classes=10 digits)\n",
    "    \n",
    " \n",
    "Input Channels/Image  |  Conv2d/Transform      | Output Channels | RF\n",
    "---------------------|--------------|----------------------|----------------------\n",
    "`28x28x1`              | `(3x3x1)x8`   |      `26x26x8`  |      `3x3`|      \n",
    "             |          `ReLU`  | \n",
    "**26x26x8**             | **(3x3x8)x8**  |      **24x24x8** |      **5x5**\n",
    "             |          **ReLU**  |                 \n",
    "**24x24x8**             | **(3x3x8)x16**  |      **22x22x16** |      **7x7**  \n",
    "             |          **ReLU**  |                 \n",
    "*22x22x16*             |   *MP(2x2)*    |      *11x11x16*   |      *8x8*                      \n",
    "*11x11x16*             | *(1x1x16)x8*  |      *11x11x8*    |      *8x8* \n",
    "             |          *ReLU*  |     \n",
    "**11x11x8**             | **(3x3x8)x8**  |      **9x9x8** |      **12x12** \n",
    "             |          **ReLU**  |       \n",
    "**9x9x8**               | **(3x3x8)x16**  |      **7x7x16**  |      **16x16** \n",
    "             |          **ReLU**  |       \n",
    "*7x7x16*               | *(1x1x16)x10*  |      *7x7x10*    |      *16x16*  (NO RELU at the o/p of this layer)    \n",
    "7x7x10               | GAP  LAYER   |      1x10          |\n",
    "\n",
    "\n",
    "    iv. The 2nd variant could've been, as below, where the last 1x1 is actually behaving like a FC-layer:\n",
    "\n",
    "Input Channels/Image  |  Conv2d/Transform      | Output Channels | RF\n",
    "---------------------|--------------|----------------------|----------------------\n",
    "`28x28x1`              | `(3x3x1)x8`   |      `26x26x8`  |      `3x3`\n",
    "             |          `ReLU`  | \n",
    "**26x26x8**             | **(3x3x8)x8**  |      **24x24x8** |      **5x5**  \n",
    "             |          **ReLU**  | \n",
    "**24x24x8**             | **(3x3x8)x16**  |      **22x22x16** |      **7x7**  \n",
    "             |          **ReLU**  | \n",
    "*22x22x16*             |   *MP(2x2)*    |      *11x11x16*   |      *8x8*                      \n",
    "*11x11x16*             | *(1x1x16)x8*  |      *11x11x8*    |      *8x8* \n",
    "             |          *ReLU*  |     \n",
    "**11x11x8**             | **(3x3x8)x8**  |      **9x9x8** |      **12x12**\n",
    "             |          **ReLU**  |   \n",
    "**9x9x8**               | **(3x3x8)x16**  |      **7x7x16**  |      **16x16** (NO RELU at the o/p of this layer)            \n",
    "7x7x16               | GAP  LAYER   |      1x16          |  (the output, though can be written as 1x1x16, but is 1-D, i.e.1x16)\n",
    "*1x1x16*               | *(1x1x16)x10*  |      *1x10*    | (behaves as fully-connected layer for the 1-D data from GAP)\n",
    "\n",
    "\n",
    "    v. As mentioned earlier, have found better results for the 1x1->GAP option above, rather than GAP->1x1(or, FC)\n",
    "       hence the increments of Batch Normalization, dropout etc are made with this arrangement.\n",
    "       \n",
    "    vi. At the end, following Architecture (same as the first-table above, but with increased number of channels, like below\n",
    "        is found to achieve the required goal: 14,112 params, >99.4% accuracy, in less than 20 epochs (while 'sticking-to'\n",
    "        the same learning rate as given in the original code, as Learning-rate tuning is not to be experimented in this session)\n",
    "        \n",
    "\n",
    "Input Channels/Image  |  Conv2d/Transform      | Output Channels | RF\n",
    "---------------------|--------------|----------------------|----------------------\n",
    "`28x28x1`              | `(3x3x1)x16`   |      `26x26x16`  |      `3x3`\n",
    "             |          `BN(16)`  |      \n",
    "             |          `Dropout(3%)`  |      \n",
    "             |          `ReLU`  |      \n",
    "**26x26x16**             | **(3x3x16)x16**  |      **24x24x16** |      **5x5** \n",
    "             |          **BN(16)**  |      \n",
    "             |          **Dropout(3%)**  |   \n",
    "             |          **ReLU**  |                 \n",
    "**24x24x16**             | **(3x3x16)x16**  |      **22x22x16** |      **7x7** \n",
    "             |          **BN(16)**  |      \n",
    "             |          **Dropout(3%)**  |   \n",
    "             |          **ReLU**  |                 \n",
    "*22x22x16*             |   *MP(2x2)*    |      *11x11x16*   |      *8x8*                      \n",
    "*11x11x16*             | *(1x1x16)x16*  |      *11x11x16*    |      *8x8*   \n",
    "             |          *BN(16)*  |      \n",
    "             |          *Dropout(3%)*  |  \n",
    "             |          *ReLU*  |                 \n",
    "**11x11x16**             | **(3x3x16)x24**  |      **9x9x24** |      **12x12**  \n",
    "             |          **BN(24)**  |      \n",
    "             |          **Dropout(3%)**  |    \n",
    "             |          **ReLU**  |                 \n",
    "**9x9x24**               | **(3x3x24)x24**  |      **7x7x24**  |      **16x16**   \n",
    "             |          **BN(24)**  |      \n",
    "             |          **Dropout(3%)**  |  \n",
    "             |          **ReLU**  |                 \n",
    "*7x7x24*               | *(1x1x24)x10*  |      *7x7x10*    |      *16x16*   (NO RELU at the o/p of this layer)   \n",
    "7x7x10               | GAP  LAYER   |      1x10          |     "
   ]
  },
  {
   "cell_type": "code",
   "execution_count": 11,
   "metadata": {},
   "outputs": [],
   "source": [
    "#First NW:"
   ]
  },
  {
   "cell_type": "markdown",
   "metadata": {},
   "source": [
    "Input Channels/Image  |  Conv2d/Transform      | Output Channels | RF\n",
    "---------------------|--------------|----------------------|----------------------\n",
    "`28x28x1`              | `(3x3x1)x8`   |      `26x26x8`  |      `3x3`|      \n",
    "             |          `ReLU`  | \n",
    "**26x26x8**             | **(3x3x8)x8**  |      **24x24x8** |      **5x5**\n",
    "             |          **ReLU**  |                 \n",
    "**24x24x8**             | **(3x3x8)x16**  |      **22x22x16** |      **7x7**  \n",
    "             |          **ReLU**  |                 \n",
    "*22x22x16*             |   *MP(2x2)*    |      *11x11x16*   |      *8x8*                      \n",
    "*11x11x16*             | *(1x1x16)x8*  |      *11x11x8*    |      *8x8* \n",
    "             |          *ReLU*  |     \n",
    "**11x11x8**             | **(3x3x8)x8**  |      **9x9x8** |      **12x12** \n",
    "             |          **ReLU**  |       \n",
    "**9x9x8**               | **(3x3x8)x16**  |      **7x7x16**  |      **16x16** \n",
    "             |          **ReLU**  |       \n",
    "*7x7x16*               | *(1x1x16)x10*  |      *7x7x10*    |      *16x16*  (NO RELU at the o/p of this layer)    \n",
    "7x7x10               | GAP  LAYER   |      1x10          |"
   ]
  },
  {
   "cell_type": "code",
   "execution_count": 3,
   "metadata": {
    "colab": {},
    "colab_type": "code",
    "id": "h_Cx9q2QFgM7"
   },
   "outputs": [],
   "source": [
    "class Net1(nn.Module):\n",
    "    def __init__(self):\n",
    "        super(Net1, self).__init__()\n",
    "        self.conv1 = nn.Conv2d(1, 8, 3, bias=False)#input:28x28x1, output:26x26x8, RF:3x3\n",
    "\n",
    "        self.conv2 = nn.Conv2d(8, 8, 3, bias=False)#input:26x26x8, output:24x24x8, RF:5x5 \n",
    "        self.conv3 = nn.Conv2d(8, 16, 3, bias=False)#input:24x24x8, output:22x22x16, RF:7x7\n",
    "\n",
    "        self.pool1 = nn.MaxPool2d(2, 2)#input:22x22x16, output:11x11x16, RF:8x8  \n",
    "        self.conv4 = nn.Conv2d(16, 8, 1, bias=False)#input:11x11x16, output:11x11x8, RF:8x8\n",
    "\n",
    "        self.conv5 = nn.Conv2d(8, 8, 3, bias=False)#input:11x11x8, output:9x9x8, RF:12x12 \n",
    "        self.conv6 = nn.Conv2d(8, 16, 3, bias=False)#input:9x9x8, output:7x7x16, RF:16x16\n",
    "\n",
    "        self.conv7 = nn.Conv2d(16, 10, 1, bias=False)#input:7x7x16, output:7x7x10, RF:16x16\n",
    "        self.gap1 = nn.AvgPool2d(kernel_size=7)#input:7x7x10, output:1x1x10 (or 1x10, 1-D data format now)\n",
    "        \n",
    "    def forward(self, x):\n",
    "        x = F.relu(self.conv1(x))# First Layer Separate\n",
    "        x = F.relu(self.conv3(F.relu(self.conv2(x))))# First Block\n",
    "        x = F.relu(self.conv4(self.pool1(x)))# first transition block\n",
    "        x = F.relu(self.conv6(F.relu(self.conv5(x))))# Second Block \n",
    "        x = self.conv7(x)#no ReLU at 2nd Transition Block O/p(just 1x1, without a maxpool towards the end here)leading to GAP & beyond) \n",
    "        x = self.gap1(x) # Global Average Pool layer\n",
    "        x = x.view(-1, 10)#Num of classes = 10 (digits to be identified)\n",
    "        return F.log_softmax(x, dim=1)"
   ]
  },
  {
   "cell_type": "code",
   "execution_count": 4,
   "metadata": {
    "colab": {},
    "colab_type": "code",
    "id": "xdydjYTZFyi3"
   },
   "outputs": [
    {
     "name": "stdout",
     "output_type": "stream",
     "text": [
      "----------------------------------------------------------------\n",
      "        Layer (type)               Output Shape         Param #\n",
      "================================================================\n",
      "            Conv2d-1            [-1, 8, 26, 26]              72\n",
      "            Conv2d-2            [-1, 8, 24, 24]             576\n",
      "            Conv2d-3           [-1, 16, 22, 22]           1,152\n",
      "         MaxPool2d-4           [-1, 16, 11, 11]               0\n",
      "            Conv2d-5            [-1, 8, 11, 11]             128\n",
      "            Conv2d-6              [-1, 8, 9, 9]             576\n",
      "            Conv2d-7             [-1, 16, 7, 7]           1,152\n",
      "            Conv2d-8             [-1, 10, 7, 7]             160\n",
      "         AvgPool2d-9             [-1, 10, 1, 1]               0\n",
      "================================================================\n",
      "Total params: 3,816\n",
      "Trainable params: 3,816\n",
      "Non-trainable params: 0\n",
      "----------------------------------------------------------------\n",
      "Input size (MB): 0.00\n",
      "Forward/backward pass size (MB): 0.17\n",
      "Params size (MB): 0.01\n",
      "Estimated Total Size (MB): 0.19\n",
      "----------------------------------------------------------------\n"
     ]
    }
   ],
   "source": [
    "#!pip install torchsummary\n",
    "use_cuda = torch.cuda.is_available()\n",
    "device = torch.device(\"cuda\" if use_cuda else \"cpu\")\n",
    "model1 = Net1().to(device)\n",
    "summary(model1, input_size=(1, 28, 28))"
   ]
  },
  {
   "cell_type": "code",
   "execution_count": 5,
   "metadata": {
    "colab": {},
    "colab_type": "code",
    "id": "DqTWLaM5GHgH"
   },
   "outputs": [
    {
     "data": {
      "text/plain": [
       "<torch._C.Generator at 0x21449471110>"
      ]
     },
     "execution_count": 5,
     "metadata": {},
     "output_type": "execute_result"
    }
   ],
   "source": [
    "torch.manual_seed(1)\n",
    "batch_size = 64\n",
    "\n",
    "kwargs = {'num_workers': 1, 'pin_memory': True} if use_cuda else {}\n",
    "train_loader = torch.utils.data.DataLoader(\n",
    "    datasets.MNIST('../data', train=True, download=True,\n",
    "                    transform=transforms.Compose([\n",
    "                        transforms.ToTensor(),\n",
    "                        transforms.Normalize((0.1307,), (0.3081,))\n",
    "                    ])),\n",
    "    batch_size=batch_size, shuffle=True, **kwargs)\n",
    "test_loader = torch.utils.data.DataLoader(\n",
    "    datasets.MNIST('../data', train=False, transform=transforms.Compose([\n",
    "                        transforms.ToTensor(),\n",
    "                        transforms.Normalize((0.1307,), (0.3081,))\n",
    "                    ])),\n",
    "    batch_size=batch_size, shuffle=True, **kwargs)"
   ]
  },
  {
   "cell_type": "code",
   "execution_count": 9,
   "metadata": {
    "colab": {},
    "colab_type": "code",
    "id": "8fDefDhaFlwH"
   },
   "outputs": [],
   "source": [
    "def train(model, device, train_loader, optimizer, epoch):\n",
    "    model.train()\n",
    "    train_loss = 0\n",
    "    train_correct = 0\n",
    "    acc=0\n",
    "    pbar = tqdm(train_loader)\n",
    "    for batch_idx, (data, target) in enumerate(pbar):\n",
    "        data, target = data.to(device), target.to(device)\n",
    "        optimizer.zero_grad()\n",
    "        output = model(data)\n",
    "        loss = F.nll_loss(output, target)\n",
    "        pred_train = output.argmax(dim=1, keepdim=True)  # get the index of the max log-probability\n",
    "        train_correct += pred_train.eq(target.view_as(pred_train)).sum().item()\n",
    "        loss.backward()\n",
    "        optimizer.step()\n",
    "        pbar.set_description(desc=f'epoch={epoch} loss={loss.item()} batch_id={batch_idx}')\n",
    "    train_loss = loss.item()\n",
    "    acc = 100. * train_correct / len(train_loader.dataset)\n",
    "    print('\\nEpoch {}--Train set: Average loss: {:.4f}, Training Accuracy: {}/{} ({:.2f}%)\\n'.format(\n",
    "        epoch, train_loss, train_correct, len(train_loader.dataset),\n",
    "        100. * train_correct / len(train_loader.dataset)))\n",
    "    return acc, train_loss\n",
    "\n",
    "\n",
    "def test(model, device, test_loader, epoch):\n",
    "    model.eval()\n",
    "    test_loss = 0\n",
    "    correct = 0\n",
    "    acc=0\n",
    "    with torch.no_grad():\n",
    "        for data, target in test_loader:\n",
    "            data, target = data.to(device), target.to(device)\n",
    "            output = model(data)\n",
    "            test_loss += F.nll_loss(output, target, reduction='sum').item()  # sum up batch loss\n",
    "            pred = output.argmax(dim=1, keepdim=True)  # get the index of the max log-probability\n",
    "            correct += pred.eq(target.view_as(pred)).sum().item()\n",
    "    \n",
    "    test_loss /= len(test_loader.dataset)\n",
    "    acc = 100. * correct / len(test_loader.dataset)\n",
    "    print('\\nEpoch {}--Test set: Average loss: {:.4f}, Validation Accuracy: {}/{} ({:.2f}%)\\n'.format(\n",
    "        epoch, test_loss, correct, len(test_loader.dataset),\n",
    "        100. * correct / len(test_loader.dataset)))\n",
    "    return acc, test_loss"
   ]
  },
  {
   "cell_type": "code",
   "execution_count": 7,
   "metadata": {
    "colab": {},
    "colab_type": "code",
    "id": "MMWbLWO6FuHb",
    "scrolled": false
   },
   "outputs": [
    {
     "name": "stderr",
     "output_type": "stream",
     "text": [
      "epoch=1 loss=1.6709644794464111 batch_id=937: 100%|██████████████████████████████████| 938/938 [00:17<00:00, 54.67it/s]\n"
     ]
    },
    {
     "name": "stdout",
     "output_type": "stream",
     "text": [
      "\n",
      "Epoch 1--Train set: Average loss: 1.6710, Training Accuracy: 7682/60000 (12.80%)\n",
      "\n",
      "\n",
      "Epoch 1--Test set: Average loss: 1.3584, Validation Accuracy: 5432/10000 (54.32%)\n",
      "\n"
     ]
    },
    {
     "name": "stderr",
     "output_type": "stream",
     "text": [
      "epoch=2 loss=0.26218950748443604 batch_id=937: 100%|█████████████████████████████████| 938/938 [00:17<00:00, 53.35it/s]\n"
     ]
    },
    {
     "name": "stdout",
     "output_type": "stream",
     "text": [
      "\n",
      "Epoch 2--Train set: Average loss: 0.2622, Training Accuracy: 51666/60000 (86.11%)\n",
      "\n",
      "\n",
      "Epoch 2--Test set: Average loss: 0.2932, Validation Accuracy: 9121/10000 (91.21%)\n",
      "\n"
     ]
    },
    {
     "name": "stderr",
     "output_type": "stream",
     "text": [
      "epoch=3 loss=0.1266893744468689 batch_id=937: 100%|██████████████████████████████████| 938/938 [00:17<00:00, 53.54it/s]\n"
     ]
    },
    {
     "name": "stdout",
     "output_type": "stream",
     "text": [
      "\n",
      "Epoch 3--Train set: Average loss: 0.1267, Training Accuracy: 55861/60000 (93.10%)\n",
      "\n",
      "\n",
      "Epoch 3--Test set: Average loss: 0.2062, Validation Accuracy: 9387/10000 (93.87%)\n",
      "\n"
     ]
    },
    {
     "name": "stderr",
     "output_type": "stream",
     "text": [
      "epoch=4 loss=0.2012055665254593 batch_id=937: 100%|██████████████████████████████████| 938/938 [00:17<00:00, 54.95it/s]\n"
     ]
    },
    {
     "name": "stdout",
     "output_type": "stream",
     "text": [
      "\n",
      "Epoch 4--Train set: Average loss: 0.2012, Training Accuracy: 56824/60000 (94.71%)\n",
      "\n",
      "\n",
      "Epoch 4--Test set: Average loss: 0.1708, Validation Accuracy: 9473/10000 (94.73%)\n",
      "\n"
     ]
    },
    {
     "name": "stderr",
     "output_type": "stream",
     "text": [
      "epoch=5 loss=0.43567100167274475 batch_id=937: 100%|█████████████████████████████████| 938/938 [00:17<00:00, 54.61it/s]\n"
     ]
    },
    {
     "name": "stdout",
     "output_type": "stream",
     "text": [
      "\n",
      "Epoch 5--Train set: Average loss: 0.4357, Training Accuracy: 57332/60000 (95.55%)\n",
      "\n",
      "\n",
      "Epoch 5--Test set: Average loss: 0.1153, Validation Accuracy: 9672/10000 (96.72%)\n",
      "\n"
     ]
    },
    {
     "name": "stderr",
     "output_type": "stream",
     "text": [
      "epoch=6 loss=0.32697993516921997 batch_id=937: 100%|█████████████████████████████████| 938/938 [00:18<00:00, 52.02it/s]\n"
     ]
    },
    {
     "name": "stdout",
     "output_type": "stream",
     "text": [
      "\n",
      "Epoch 6--Train set: Average loss: 0.3270, Training Accuracy: 57699/60000 (96.17%)\n",
      "\n",
      "\n",
      "Epoch 6--Test set: Average loss: 0.1210, Validation Accuracy: 9625/10000 (96.25%)\n",
      "\n"
     ]
    },
    {
     "name": "stderr",
     "output_type": "stream",
     "text": [
      "epoch=7 loss=0.009874239563941956 batch_id=937: 100%|████████████████████████████████| 938/938 [00:17<00:00, 52.49it/s]\n"
     ]
    },
    {
     "name": "stdout",
     "output_type": "stream",
     "text": [
      "\n",
      "Epoch 7--Train set: Average loss: 0.0099, Training Accuracy: 57966/60000 (96.61%)\n",
      "\n",
      "\n",
      "Epoch 7--Test set: Average loss: 0.0977, Validation Accuracy: 9715/10000 (97.15%)\n",
      "\n"
     ]
    },
    {
     "name": "stderr",
     "output_type": "stream",
     "text": [
      "epoch=8 loss=0.03068605065345764 batch_id=937: 100%|█████████████████████████████████| 938/938 [00:17<00:00, 52.38it/s]\n"
     ]
    },
    {
     "name": "stdout",
     "output_type": "stream",
     "text": [
      "\n",
      "Epoch 8--Train set: Average loss: 0.0307, Training Accuracy: 58100/60000 (96.83%)\n",
      "\n",
      "\n",
      "Epoch 8--Test set: Average loss: 0.0875, Validation Accuracy: 9739/10000 (97.39%)\n",
      "\n"
     ]
    },
    {
     "name": "stderr",
     "output_type": "stream",
     "text": [
      "epoch=9 loss=0.04350864887237549 batch_id=937: 100%|█████████████████████████████████| 938/938 [00:18<00:00, 53.38it/s]\n"
     ]
    },
    {
     "name": "stdout",
     "output_type": "stream",
     "text": [
      "\n",
      "Epoch 9--Train set: Average loss: 0.0435, Training Accuracy: 58266/60000 (97.11%)\n",
      "\n",
      "\n",
      "Epoch 9--Test set: Average loss: 0.0855, Validation Accuracy: 9751/10000 (97.51%)\n",
      "\n"
     ]
    },
    {
     "name": "stderr",
     "output_type": "stream",
     "text": [
      "epoch=10 loss=0.029705137014389038 batch_id=937: 100%|███████████████████████████████| 938/938 [00:17<00:00, 53.00it/s]\n"
     ]
    },
    {
     "name": "stdout",
     "output_type": "stream",
     "text": [
      "\n",
      "Epoch 10--Train set: Average loss: 0.0297, Training Accuracy: 58418/60000 (97.36%)\n",
      "\n",
      "\n",
      "Epoch 10--Test set: Average loss: 0.0849, Validation Accuracy: 9763/10000 (97.63%)\n",
      "\n"
     ]
    },
    {
     "name": "stderr",
     "output_type": "stream",
     "text": [
      "epoch=11 loss=0.020609110593795776 batch_id=937: 100%|███████████████████████████████| 938/938 [00:17<00:00, 52.28it/s]\n"
     ]
    },
    {
     "name": "stdout",
     "output_type": "stream",
     "text": [
      "\n",
      "Epoch 11--Train set: Average loss: 0.0206, Training Accuracy: 58522/60000 (97.54%)\n",
      "\n",
      "\n",
      "Epoch 11--Test set: Average loss: 0.0818, Validation Accuracy: 9750/10000 (97.50%)\n",
      "\n"
     ]
    },
    {
     "name": "stderr",
     "output_type": "stream",
     "text": [
      "epoch=12 loss=0.006964683532714844 batch_id=937: 100%|███████████████████████████████| 938/938 [00:17<00:00, 53.18it/s]\n"
     ]
    },
    {
     "name": "stdout",
     "output_type": "stream",
     "text": [
      "\n",
      "Epoch 12--Train set: Average loss: 0.0070, Training Accuracy: 58571/60000 (97.62%)\n",
      "\n",
      "\n",
      "Epoch 12--Test set: Average loss: 0.0828, Validation Accuracy: 9747/10000 (97.47%)\n",
      "\n"
     ]
    },
    {
     "name": "stderr",
     "output_type": "stream",
     "text": [
      "epoch=13 loss=0.053777456283569336 batch_id=937: 100%|███████████████████████████████| 938/938 [00:18<00:00, 49.67it/s]\n"
     ]
    },
    {
     "name": "stdout",
     "output_type": "stream",
     "text": [
      "\n",
      "Epoch 13--Train set: Average loss: 0.0538, Training Accuracy: 58637/60000 (97.73%)\n",
      "\n",
      "\n",
      "Epoch 13--Test set: Average loss: 0.0632, Validation Accuracy: 9795/10000 (97.95%)\n",
      "\n"
     ]
    },
    {
     "name": "stderr",
     "output_type": "stream",
     "text": [
      "epoch=14 loss=0.20135977864265442 batch_id=937: 100%|████████████████████████████████| 938/938 [00:17<00:00, 53.65it/s]\n"
     ]
    },
    {
     "name": "stdout",
     "output_type": "stream",
     "text": [
      "\n",
      "Epoch 14--Train set: Average loss: 0.2014, Training Accuracy: 58714/60000 (97.86%)\n",
      "\n",
      "\n",
      "Epoch 14--Test set: Average loss: 0.0739, Validation Accuracy: 9785/10000 (97.85%)\n",
      "\n"
     ]
    },
    {
     "name": "stderr",
     "output_type": "stream",
     "text": [
      "epoch=15 loss=0.021812111139297485 batch_id=937: 100%|███████████████████████████████| 938/938 [00:18<00:00, 51.23it/s]\n"
     ]
    },
    {
     "name": "stdout",
     "output_type": "stream",
     "text": [
      "\n",
      "Epoch 15--Train set: Average loss: 0.0218, Training Accuracy: 58797/60000 (98.00%)\n",
      "\n",
      "\n",
      "Epoch 15--Test set: Average loss: 0.0663, Validation Accuracy: 9806/10000 (98.06%)\n",
      "\n"
     ]
    },
    {
     "name": "stderr",
     "output_type": "stream",
     "text": [
      "epoch=16 loss=0.041330814361572266 batch_id=937: 100%|███████████████████████████████| 938/938 [00:17<00:00, 53.65it/s]\n"
     ]
    },
    {
     "name": "stdout",
     "output_type": "stream",
     "text": [
      "\n",
      "Epoch 16--Train set: Average loss: 0.0413, Training Accuracy: 58812/60000 (98.02%)\n",
      "\n",
      "\n",
      "Epoch 16--Test set: Average loss: 0.0630, Validation Accuracy: 9800/10000 (98.00%)\n",
      "\n"
     ]
    },
    {
     "name": "stderr",
     "output_type": "stream",
     "text": [
      "epoch=17 loss=0.27066728472709656 batch_id=937: 100%|████████████████████████████████| 938/938 [00:18<00:00, 51.60it/s]\n"
     ]
    },
    {
     "name": "stdout",
     "output_type": "stream",
     "text": [
      "\n",
      "Epoch 17--Train set: Average loss: 0.2707, Training Accuracy: 58890/60000 (98.15%)\n",
      "\n",
      "\n",
      "Epoch 17--Test set: Average loss: 0.0682, Validation Accuracy: 9790/10000 (97.90%)\n",
      "\n"
     ]
    },
    {
     "name": "stderr",
     "output_type": "stream",
     "text": [
      "epoch=18 loss=0.016077309846878052 batch_id=937: 100%|███████████████████████████████| 938/938 [00:17<00:00, 52.81it/s]\n"
     ]
    },
    {
     "name": "stdout",
     "output_type": "stream",
     "text": [
      "\n",
      "Epoch 18--Train set: Average loss: 0.0161, Training Accuracy: 58937/60000 (98.23%)\n",
      "\n",
      "\n",
      "Epoch 18--Test set: Average loss: 0.0717, Validation Accuracy: 9803/10000 (98.03%)\n",
      "\n"
     ]
    },
    {
     "name": "stderr",
     "output_type": "stream",
     "text": [
      "epoch=19 loss=0.0044090598821640015 batch_id=937: 100%|██████████████████████████████| 938/938 [00:18<00:00, 50.85it/s]\n"
     ]
    },
    {
     "name": "stdout",
     "output_type": "stream",
     "text": [
      "\n",
      "Epoch 19--Train set: Average loss: 0.0044, Training Accuracy: 58924/60000 (98.21%)\n",
      "\n",
      "\n",
      "Epoch 19--Test set: Average loss: 0.0620, Validation Accuracy: 9825/10000 (98.25%)\n",
      "\n"
     ]
    },
    {
     "name": "stderr",
     "output_type": "stream",
     "text": [
      "epoch=20 loss=0.008360370993614197 batch_id=937: 100%|███████████████████████████████| 938/938 [00:17<00:00, 52.72it/s]\n"
     ]
    },
    {
     "name": "stdout",
     "output_type": "stream",
     "text": [
      "\n",
      "Epoch 20--Train set: Average loss: 0.0084, Training Accuracy: 58975/60000 (98.29%)\n",
      "\n",
      "\n",
      "Epoch 20--Test set: Average loss: 0.0746, Validation Accuracy: 9786/10000 (97.86%)\n",
      "\n"
     ]
    }
   ],
   "source": [
    "model1 = Net1().to(device)\n",
    "optimizer = optim.SGD(model1.parameters(), lr=0.01, momentum=0.9)\n",
    "acc_history = []\n",
    "loss_history = []\n",
    "val_acc_history = []\n",
    "val_loss_history = []\n",
    "for epoch in range(1, 21):\n",
    "    acc, train_loss = train(model1, device, train_loader, optimizer, epoch)\n",
    "    val_acc, test_loss = test(model1, device, test_loader, epoch)\n",
    "    acc_history.append(acc)\n",
    "    loss_history.append(train_loss)\n",
    "    val_acc_history.append(val_acc)\n",
    "    val_loss_history.append(test_loss)"
   ]
  },
  {
   "cell_type": "code",
   "execution_count": 8,
   "metadata": {
    "colab": {},
    "colab_type": "code",
    "id": "So5uk4EkHW6R"
   },
   "outputs": [
    {
     "data": {
      "image/png": "[encoded data removed]",
      "text/plain": [
       "<Figure size 432x288 with 1 Axes>"
      ]
     },
     "metadata": {
      "needs_background": "light"
     },
     "output_type": "display_data"
    }
   ],
   "source": [
    "_= plt.plot(acc_history)\n",
    "_= plt.plot(val_acc_history)\n",
    "_= plt.title('model accuracy')\n",
    "_= plt.ylabel('accuracy')\n",
    "_= plt.xlabel('epoch')\n",
    "_= plt.legend(['train', 'val'], loc='upper left')\n",
    "_= plt.show()"
   ]
  },
  {
   "cell_type": "code",
   "execution_count": 9,
   "metadata": {},
   "outputs": [
    {
     "data": {
      "image/png": "[encoded data removed]",
      "text/plain": [
       "<Figure size 432x288 with 1 Axes>"
      ]
     },
     "metadata": {
      "needs_background": "light"
     },
     "output_type": "display_data"
    }
   ],
   "source": [
    "_= plt.plot(loss_history)\n",
    "_= plt.plot(val_loss_history)\n",
    "_= plt.title('model loss')\n",
    "_= plt.ylabel('loss')\n",
    "_= plt.xlabel('epoch')\n",
    "_= plt.legend(['train', 'val'], loc='upper left')\n",
    "_= plt.show()"
   ]
  },
  {
   "cell_type": "markdown",
   "metadata": {},
   "source": [
    "- First observation: the parameters are 3,816 the max validation accuracy reached: ~98.25%\n",
    "\n",
    "- The logs and accuracy plot above show that there is some overfitting in terms of in terms of the accuracy plot, both the train and test accuracies seem to be running in close step.With not much \"potential\" for the test/validation accuracy to in cerase, with a corresponding increase in training accuracy.\n",
    "\n",
    "- Additionally, with required 20 epochs, the network capacity seems to be not sufficient to meet the goal.\n",
    "\n",
    "- But, despite an urgent need for increased channels, we would still like to see, if with added Batch-Norm, Dropout, what effects could be seen? \n",
    "\n",
    "- Meantime, we will explore the 2nd variant below as well to see where it stands."
   ]
  },
  {
   "cell_type": "code",
   "execution_count": 12,
   "metadata": {},
   "outputs": [],
   "source": [
    "#2nd NW: this is just the GAP->1x1(FC) variant...this variant is not being taken forward for incremental \n",
    "#changes (as it was found to be lagging behind as compared to the 1x1->GAP variant discussed earlier)"
   ]
  },
  {
   "cell_type": "markdown",
   "metadata": {},
   "source": [
    "Input Channels/Image  |  Conv2d/Transform      | Output Channels | RF\n",
    "---------------------|--------------|----------------------|----------------------\n",
    "`28x28x1`              | `(3x3x1)x8`   |      `26x26x8`  |      `3x3`\n",
    "             |          `ReLU`  | \n",
    "**26x26x8**             | **(3x3x8)x8**  |      **24x24x8** |      **5x5**  \n",
    "             |          **ReLU**  | \n",
    "**24x24x8**             | **(3x3x8)x16**  |      **22x22x16** |      **7x7**  \n",
    "             |          **ReLU**  | \n",
    "*22x22x16*             |   *MP(2x2)*    |      *11x11x16*   |      *8x8*                      \n",
    "*11x11x16*             | *(1x1x16)x8*  |      *11x11x8*    |      *8x8* \n",
    "             |          *ReLU*  |     \n",
    "**11x11x8**             | **(3x3x8)x8**  |      **9x9x8** |      **12x12**\n",
    "             |          **ReLU**  |   \n",
    "**9x9x8**               | **(3x3x8)x16**  |      **7x7x16**  |      **16x16** (NO RELU at the o/p of this layer)            \n",
    "7x7x16               | GAP  LAYER   |      1x16          |\n",
    "*1x1x16*               | *(1x1x16)x10*  |      *1x10*    |  (behaves as fully-connected layer for the 1-D data from GAP)"
   ]
  },
  {
   "cell_type": "code",
   "execution_count": 10,
   "metadata": {},
   "outputs": [],
   "source": [
    "class Net2(nn.Module):\n",
    "    def __init__(self):\n",
    "        super(Net2, self).__init__()\n",
    "        self.conv1 = nn.Conv2d(1, 8, 3, bias=False)#input:28x28x1, output:26x26x8, RF:3x3\n",
    "\n",
    "        self.conv2 = nn.Conv2d(8, 8, 3, bias=False)#input:26x26x8, output:24x24x8, RF:5x5 \n",
    "        self.conv3 = nn.Conv2d(8, 16, 3, bias=False)#input:24x24x8, output:22x22x16, RF:7x7\n",
    "\n",
    "        self.pool1 = nn.MaxPool2d(2, 2)#input:22x22x16, output:11x11x16, RF:8x8  \n",
    "        self.conv4 = nn.Conv2d(16, 8, 1, bias=False)#input:11x11x16, output:11x11x8, RF:8x8\n",
    "\n",
    "        self.conv5 = nn.Conv2d(8, 8, 3, bias=False)#input:11x11x8, output:9x9x8, RF:12x12 \n",
    "        self.conv6 = nn.Conv2d(8, 16, 3, bias=False)#input:9x9x8, output:7x7x16, RF:16x16\n",
    "        \n",
    "        self.gap1 = nn.AvgPool2d(kernel_size=7)#input:7x7x16, output:1x1x16 (or 1x16, 1-D data format now, with FC allowed at its o/p)\n",
    "        self.conv7 = nn.Conv2d(16, 10, 1, bias=False)#appears to be a conv2d (1x1) kernel, actually is an FC.\n",
    "        \n",
    "        \n",
    "    def forward(self, x):\n",
    "        x = F.relu(self.conv1(x))# First Layer Separate\n",
    "        x = F.relu(self.conv3(F.relu(self.conv2(x))))# First Block\n",
    "        x = F.relu(self.conv4(self.pool1(x)))# first transition block\n",
    "        x = self.conv6(F.relu(self.conv5(x)))# Second Block (there is no ReLU at 2nd Block O/p leading to GAP & beyond)\n",
    "        x = self.gap1(x) # Global Average Pool layer\n",
    "        x = self.conv7(x) # Works as a Fully connected layer (on the 1-D data from GAP)\n",
    "        x = x.view(-1, 10)#Num of classes = 10 (digits to be identified)\n",
    "        return F.log_softmax(x, dim=1)"
   ]
  },
  {
   "cell_type": "code",
   "execution_count": 11,
   "metadata": {},
   "outputs": [
    {
     "name": "stdout",
     "output_type": "stream",
     "text": [
      "----------------------------------------------------------------\n",
      "        Layer (type)               Output Shape         Param #\n",
      "================================================================\n",
      "            Conv2d-1            [-1, 8, 26, 26]              72\n",
      "            Conv2d-2            [-1, 8, 24, 24]             576\n",
      "            Conv2d-3           [-1, 16, 22, 22]           1,152\n",
      "         MaxPool2d-4           [-1, 16, 11, 11]               0\n",
      "            Conv2d-5            [-1, 8, 11, 11]             128\n",
      "            Conv2d-6              [-1, 8, 9, 9]             576\n",
      "            Conv2d-7             [-1, 16, 7, 7]           1,152\n",
      "         AvgPool2d-8             [-1, 16, 1, 1]               0\n",
      "            Conv2d-9             [-1, 10, 1, 1]             160\n",
      "================================================================\n",
      "Total params: 3,816\n",
      "Trainable params: 3,816\n",
      "Non-trainable params: 0\n",
      "----------------------------------------------------------------\n",
      "Input size (MB): 0.00\n",
      "Forward/backward pass size (MB): 0.17\n",
      "Params size (MB): 0.01\n",
      "Estimated Total Size (MB): 0.19\n",
      "----------------------------------------------------------------\n"
     ]
    }
   ],
   "source": [
    "#!pip install torchsummary\n",
    "use_cuda = torch.cuda.is_available()\n",
    "device = torch.device(\"cuda\" if use_cuda else \"cpu\")\n",
    "model2 = Net2().to(device)\n",
    "summary(model2, input_size=(1, 28, 28))"
   ]
  },
  {
   "cell_type": "code",
   "execution_count": 12,
   "metadata": {},
   "outputs": [
    {
     "data": {
      "text/plain": [
       "<torch._C.Generator at 0x1c88e0f62f0>"
      ]
     },
     "execution_count": 12,
     "metadata": {},
     "output_type": "execute_result"
    }
   ],
   "source": [
    "torch.manual_seed(1)\n",
    "batch_size = 64\n",
    "\n",
    "kwargs = {'num_workers': 1, 'pin_memory': True} if use_cuda else {}\n",
    "train_loader = torch.utils.data.DataLoader(\n",
    "    datasets.MNIST('../data', train=True, download=True,\n",
    "                    transform=transforms.Compose([\n",
    "                        transforms.ToTensor(),\n",
    "                        transforms.Normalize((0.1307,), (0.3081,))\n",
    "                    ])),\n",
    "    batch_size=batch_size, shuffle=True, **kwargs)\n",
    "test_loader = torch.utils.data.DataLoader(\n",
    "    datasets.MNIST('../data', train=False, transform=transforms.Compose([\n",
    "                        transforms.ToTensor(),\n",
    "                        transforms.Normalize((0.1307,), (0.3081,))\n",
    "                    ])),\n",
    "    batch_size=batch_size, shuffle=True, **kwargs)"
   ]
  },
  {
   "cell_type": "code",
   "execution_count": 13,
   "metadata": {},
   "outputs": [],
   "source": [
    "def train(model, device, train_loader, optimizer, epoch):\n",
    "    model.train()\n",
    "    train_loss = 0\n",
    "    train_correct = 0\n",
    "    acc=0\n",
    "    pbar = tqdm(train_loader)\n",
    "    for batch_idx, (data, target) in enumerate(pbar):\n",
    "        data, target = data.to(device), target.to(device)\n",
    "        optimizer.zero_grad()\n",
    "        output = model(data)\n",
    "        loss = F.nll_loss(output, target)\n",
    "        pred_train = output.argmax(dim=1, keepdim=True)  # get the index of the max log-probability\n",
    "        train_correct += pred_train.eq(target.view_as(pred_train)).sum().item()\n",
    "        loss.backward()\n",
    "        optimizer.step()\n",
    "        pbar.set_description(desc=f'epoch={epoch} loss={loss.item()} batch_id={batch_idx}')\n",
    "    train_loss = loss.item()\n",
    "    acc = 100. * train_correct / len(train_loader.dataset)\n",
    "    print('\\nEpoch {}--Train set: Average loss: {:.4f}, Training Accuracy: {}/{} ({:.2f}%)\\n'.format(\n",
    "        epoch, train_loss, train_correct, len(train_loader.dataset),\n",
    "        100. * train_correct / len(train_loader.dataset)))\n",
    "    return acc, train_loss\n",
    "\n",
    "\n",
    "def test(model, device, test_loader, epoch):\n",
    "    model.eval()\n",
    "    test_loss = 0\n",
    "    correct = 0\n",
    "    acc=0\n",
    "    with torch.no_grad():\n",
    "        for data, target in test_loader:\n",
    "            data, target = data.to(device), target.to(device)\n",
    "            output = model(data)\n",
    "            test_loss += F.nll_loss(output, target, reduction='sum').item()  # sum up batch loss\n",
    "            pred = output.argmax(dim=1, keepdim=True)  # get the index of the max log-probability\n",
    "            correct += pred.eq(target.view_as(pred)).sum().item()\n",
    "    \n",
    "    test_loss /= len(test_loader.dataset)\n",
    "    acc = 100. * correct / len(test_loader.dataset)\n",
    "    print('\\nEpoch {}--Test set: Average loss: {:.4f}, Validation Accuracy: {}/{} ({:.2f}%)\\n'.format(\n",
    "        epoch, test_loss, correct, len(test_loader.dataset),\n",
    "        100. * correct / len(test_loader.dataset)))\n",
    "    return acc, test_loss"
   ]
  },
  {
   "cell_type": "code",
   "execution_count": 14,
   "metadata": {
    "scrolled": false
   },
   "outputs": [
    {
     "name": "stderr",
     "output_type": "stream",
     "text": [
      "epoch=1 loss=1.2397425174713135 batch_id=937: 100%|██████████████████████████████████| 938/938 [00:14<00:00, 62.55it/s]\n"
     ]
    },
    {
     "name": "stdout",
     "output_type": "stream",
     "text": [
      "\n",
      "Epoch 1--Train set: Average loss: 1.2397, Training Accuracy: 12909/60000 (21.52%)\n",
      "\n",
      "\n",
      "Epoch 1--Test set: Average loss: 0.7860, Validation Accuracy: 7414/10000 (74.14%)\n",
      "\n"
     ]
    },
    {
     "name": "stderr",
     "output_type": "stream",
     "text": [
      "epoch=2 loss=0.08964434266090393 batch_id=937: 100%|█████████████████████████████████| 938/938 [00:17<00:00, 52.49it/s]\n"
     ]
    },
    {
     "name": "stdout",
     "output_type": "stream",
     "text": [
      "\n",
      "Epoch 2--Train set: Average loss: 0.0896, Training Accuracy: 52566/60000 (87.61%)\n",
      "\n",
      "\n",
      "Epoch 2--Test set: Average loss: 0.2239, Validation Accuracy: 9335/10000 (93.35%)\n",
      "\n"
     ]
    },
    {
     "name": "stderr",
     "output_type": "stream",
     "text": [
      "epoch=3 loss=0.11771723628044128 batch_id=937: 100%|█████████████████████████████████| 938/938 [00:18<00:00, 50.32it/s]\n"
     ]
    },
    {
     "name": "stdout",
     "output_type": "stream",
     "text": [
      "\n",
      "Epoch 3--Train set: Average loss: 0.1177, Training Accuracy: 56537/60000 (94.23%)\n",
      "\n",
      "\n",
      "Epoch 3--Test set: Average loss: 0.1379, Validation Accuracy: 9546/10000 (95.46%)\n",
      "\n"
     ]
    },
    {
     "name": "stderr",
     "output_type": "stream",
     "text": [
      "epoch=4 loss=0.1862165629863739 batch_id=937: 100%|██████████████████████████████████| 938/938 [00:18<00:00, 51.39it/s]\n"
     ]
    },
    {
     "name": "stdout",
     "output_type": "stream",
     "text": [
      "\n",
      "Epoch 4--Train set: Average loss: 0.1862, Training Accuracy: 57273/60000 (95.45%)\n",
      "\n",
      "\n",
      "Epoch 4--Test set: Average loss: 0.1125, Validation Accuracy: 9644/10000 (96.44%)\n",
      "\n"
     ]
    },
    {
     "name": "stderr",
     "output_type": "stream",
     "text": [
      "epoch=5 loss=0.1982734650373459 batch_id=937: 100%|██████████████████████████████████| 938/938 [00:18<00:00, 49.80it/s]\n"
     ]
    },
    {
     "name": "stdout",
     "output_type": "stream",
     "text": [
      "\n",
      "Epoch 5--Train set: Average loss: 0.1983, Training Accuracy: 57815/60000 (96.36%)\n",
      "\n",
      "\n",
      "Epoch 5--Test set: Average loss: 0.1136, Validation Accuracy: 9658/10000 (96.58%)\n",
      "\n"
     ]
    },
    {
     "name": "stderr",
     "output_type": "stream",
     "text": [
      "epoch=6 loss=0.2705570459365845 batch_id=937: 100%|██████████████████████████████████| 938/938 [00:18<00:00, 51.37it/s]\n"
     ]
    },
    {
     "name": "stdout",
     "output_type": "stream",
     "text": [
      "\n",
      "Epoch 6--Train set: Average loss: 0.2706, Training Accuracy: 58003/60000 (96.67%)\n",
      "\n",
      "\n",
      "Epoch 6--Test set: Average loss: 0.0987, Validation Accuracy: 9691/10000 (96.91%)\n",
      "\n"
     ]
    },
    {
     "name": "stderr",
     "output_type": "stream",
     "text": [
      "epoch=7 loss=0.07064738869667053 batch_id=937: 100%|█████████████████████████████████| 938/938 [00:18<00:00, 50.31it/s]\n"
     ]
    },
    {
     "name": "stdout",
     "output_type": "stream",
     "text": [
      "\n",
      "Epoch 7--Train set: Average loss: 0.0706, Training Accuracy: 58212/60000 (97.02%)\n",
      "\n",
      "\n",
      "Epoch 7--Test set: Average loss: 0.0891, Validation Accuracy: 9721/10000 (97.21%)\n",
      "\n"
     ]
    },
    {
     "name": "stderr",
     "output_type": "stream",
     "text": [
      "epoch=8 loss=0.017079532146453857 batch_id=937: 100%|████████████████████████████████| 938/938 [00:18<00:00, 51.08it/s]\n"
     ]
    },
    {
     "name": "stdout",
     "output_type": "stream",
     "text": [
      "\n",
      "Epoch 8--Train set: Average loss: 0.0171, Training Accuracy: 58302/60000 (97.17%)\n",
      "\n",
      "\n",
      "Epoch 8--Test set: Average loss: 0.0782, Validation Accuracy: 9743/10000 (97.43%)\n",
      "\n"
     ]
    },
    {
     "name": "stderr",
     "output_type": "stream",
     "text": [
      "epoch=9 loss=0.025124534964561462 batch_id=937: 100%|████████████████████████████████| 938/938 [00:18<00:00, 50.65it/s]\n"
     ]
    },
    {
     "name": "stdout",
     "output_type": "stream",
     "text": [
      "\n",
      "Epoch 9--Train set: Average loss: 0.0251, Training Accuracy: 58392/60000 (97.32%)\n",
      "\n",
      "\n",
      "Epoch 9--Test set: Average loss: 0.0719, Validation Accuracy: 9775/10000 (97.75%)\n",
      "\n"
     ]
    },
    {
     "name": "stderr",
     "output_type": "stream",
     "text": [
      "epoch=10 loss=0.05337823927402496 batch_id=937: 100%|████████████████████████████████| 938/938 [00:18<00:00, 54.13it/s]\n"
     ]
    },
    {
     "name": "stdout",
     "output_type": "stream",
     "text": [
      "\n",
      "Epoch 10--Train set: Average loss: 0.0534, Training Accuracy: 58547/60000 (97.58%)\n",
      "\n",
      "\n",
      "Epoch 10--Test set: Average loss: 0.0680, Validation Accuracy: 9790/10000 (97.90%)\n",
      "\n"
     ]
    },
    {
     "name": "stderr",
     "output_type": "stream",
     "text": [
      "epoch=11 loss=0.005270451307296753 batch_id=937: 100%|███████████████████████████████| 938/938 [00:18<00:00, 50.21it/s]\n"
     ]
    },
    {
     "name": "stdout",
     "output_type": "stream",
     "text": [
      "\n",
      "Epoch 11--Train set: Average loss: 0.0053, Training Accuracy: 58547/60000 (97.58%)\n",
      "\n",
      "\n",
      "Epoch 11--Test set: Average loss: 0.0737, Validation Accuracy: 9770/10000 (97.70%)\n",
      "\n"
     ]
    },
    {
     "name": "stderr",
     "output_type": "stream",
     "text": [
      "epoch=12 loss=0.035432666540145874 batch_id=937: 100%|███████████████████████████████| 938/938 [00:18<00:00, 51.74it/s]\n"
     ]
    },
    {
     "name": "stdout",
     "output_type": "stream",
     "text": [
      "\n",
      "Epoch 12--Train set: Average loss: 0.0354, Training Accuracy: 58633/60000 (97.72%)\n",
      "\n",
      "\n",
      "Epoch 12--Test set: Average loss: 0.0625, Validation Accuracy: 9793/10000 (97.93%)\n",
      "\n"
     ]
    },
    {
     "name": "stderr",
     "output_type": "stream",
     "text": [
      "epoch=13 loss=0.04815496504306793 batch_id=937: 100%|████████████████████████████████| 938/938 [00:18<00:00, 49.41it/s]\n"
     ]
    },
    {
     "name": "stdout",
     "output_type": "stream",
     "text": [
      "\n",
      "Epoch 13--Train set: Average loss: 0.0482, Training Accuracy: 58675/60000 (97.79%)\n",
      "\n",
      "\n",
      "Epoch 13--Test set: Average loss: 0.0755, Validation Accuracy: 9749/10000 (97.49%)\n",
      "\n"
     ]
    },
    {
     "name": "stderr",
     "output_type": "stream",
     "text": [
      "epoch=14 loss=0.2519720196723938 batch_id=937: 100%|█████████████████████████████████| 938/938 [00:18<00:00, 51.27it/s]\n"
     ]
    },
    {
     "name": "stdout",
     "output_type": "stream",
     "text": [
      "\n",
      "Epoch 14--Train set: Average loss: 0.2520, Training Accuracy: 58742/60000 (97.90%)\n",
      "\n",
      "\n",
      "Epoch 14--Test set: Average loss: 0.0766, Validation Accuracy: 9772/10000 (97.72%)\n",
      "\n"
     ]
    },
    {
     "name": "stderr",
     "output_type": "stream",
     "text": [
      "epoch=15 loss=0.024411872029304504 batch_id=937: 100%|███████████████████████████████| 938/938 [00:18<00:00, 50.65it/s]\n"
     ]
    },
    {
     "name": "stdout",
     "output_type": "stream",
     "text": [
      "\n",
      "Epoch 15--Train set: Average loss: 0.0244, Training Accuracy: 58762/60000 (97.94%)\n",
      "\n",
      "\n",
      "Epoch 15--Test set: Average loss: 0.0635, Validation Accuracy: 9796/10000 (97.96%)\n",
      "\n"
     ]
    },
    {
     "name": "stderr",
     "output_type": "stream",
     "text": [
      "epoch=16 loss=0.03120368719100952 batch_id=937: 100%|████████████████████████████████| 938/938 [00:18<00:00, 49.71it/s]\n"
     ]
    },
    {
     "name": "stdout",
     "output_type": "stream",
     "text": [
      "\n",
      "Epoch 16--Train set: Average loss: 0.0312, Training Accuracy: 58825/60000 (98.04%)\n",
      "\n",
      "\n",
      "Epoch 16--Test set: Average loss: 0.0651, Validation Accuracy: 9795/10000 (97.95%)\n",
      "\n"
     ]
    },
    {
     "name": "stderr",
     "output_type": "stream",
     "text": [
      "epoch=17 loss=0.07456998527050018 batch_id=937: 100%|████████████████████████████████| 938/938 [00:18<00:00, 49.46it/s]\n"
     ]
    },
    {
     "name": "stdout",
     "output_type": "stream",
     "text": [
      "\n",
      "Epoch 17--Train set: Average loss: 0.0746, Training Accuracy: 58840/60000 (98.07%)\n",
      "\n",
      "\n",
      "Epoch 17--Test set: Average loss: 0.0552, Validation Accuracy: 9826/10000 (98.26%)\n",
      "\n"
     ]
    },
    {
     "name": "stderr",
     "output_type": "stream",
     "text": [
      "epoch=18 loss=0.029345005750656128 batch_id=937: 100%|███████████████████████████████| 938/938 [00:18<00:00, 49.48it/s]\n"
     ]
    },
    {
     "name": "stdout",
     "output_type": "stream",
     "text": [
      "\n",
      "Epoch 18--Train set: Average loss: 0.0293, Training Accuracy: 58829/60000 (98.05%)\n",
      "\n",
      "\n",
      "Epoch 18--Test set: Average loss: 0.0598, Validation Accuracy: 9826/10000 (98.26%)\n",
      "\n"
     ]
    },
    {
     "name": "stderr",
     "output_type": "stream",
     "text": [
      "epoch=19 loss=0.0071017444133758545 batch_id=937: 100%|██████████████████████████████| 938/938 [00:19<00:00, 49.33it/s]\n"
     ]
    },
    {
     "name": "stdout",
     "output_type": "stream",
     "text": [
      "\n",
      "Epoch 19--Train set: Average loss: 0.0071, Training Accuracy: 58889/60000 (98.15%)\n",
      "\n",
      "\n",
      "Epoch 19--Test set: Average loss: 0.0658, Validation Accuracy: 9781/10000 (97.81%)\n",
      "\n"
     ]
    },
    {
     "name": "stderr",
     "output_type": "stream",
     "text": [
      "epoch=20 loss=0.0053021907806396484 batch_id=937: 100%|██████████████████████████████| 938/938 [00:19<00:00, 49.25it/s]\n"
     ]
    },
    {
     "name": "stdout",
     "output_type": "stream",
     "text": [
      "\n",
      "Epoch 20--Train set: Average loss: 0.0053, Training Accuracy: 58892/60000 (98.15%)\n",
      "\n",
      "\n",
      "Epoch 20--Test set: Average loss: 0.0595, Validation Accuracy: 9806/10000 (98.06%)\n",
      "\n"
     ]
    }
   ],
   "source": [
    "model2 = Net2().to(device)\n",
    "optimizer = optim.SGD(model2.parameters(), lr=0.01, momentum=0.9)\n",
    "acc_history = []\n",
    "loss_history = []\n",
    "val_acc_history = []\n",
    "val_loss_history = []\n",
    "for epoch in range(1, 21):\n",
    "    acc, train_loss = train(model2, device, train_loader, optimizer, epoch)\n",
    "    val_acc, test_loss = test(model2, device, test_loader, epoch)\n",
    "    acc_history.append(acc)\n",
    "    loss_history.append(train_loss)\n",
    "    val_acc_history.append(val_acc)\n",
    "    val_loss_history.append(test_loss)"
   ]
  },
  {
   "cell_type": "code",
   "execution_count": 15,
   "metadata": {},
   "outputs": [
    {
     "data": {
      "image/png": "[encoded data removed]",
      "text/plain": [
       "<Figure size 432x288 with 1 Axes>"
      ]
     },
     "metadata": {
      "needs_background": "light"
     },
     "output_type": "display_data"
    }
   ],
   "source": [
    "_= plt.plot(acc_history)\n",
    "_= plt.plot(val_acc_history)\n",
    "_= plt.title('model accuracy')\n",
    "_= plt.ylabel('accuracy')\n",
    "_= plt.xlabel('epoch')\n",
    "_= plt.legend(['train', 'val'], loc='upper left')\n",
    "_= plt.show()"
   ]
  },
  {
   "cell_type": "code",
   "execution_count": 16,
   "metadata": {},
   "outputs": [
    {
     "data": {
      "image/png": "[encoded data removed]",
      "text/plain": [
       "<Figure size 432x288 with 1 Axes>"
      ]
     },
     "metadata": {
      "needs_background": "light"
     },
     "output_type": "display_data"
    }
   ],
   "source": [
    "_= plt.plot(loss_history)\n",
    "_= plt.plot(val_loss_history)\n",
    "_= plt.title('model loss')\n",
    "_= plt.ylabel('loss')\n",
    "_= plt.xlabel('epoch')\n",
    "_= plt.legend(['train', 'val'], loc='upper left')\n",
    "_= plt.show()"
   ]
  },
  {
   "cell_type": "markdown",
   "metadata": {},
   "source": [
    "- First observation: the parameters are 3,816(same as the 1st variant)\n",
    "\n",
    "- The other results for this seem to be same at this point, but later on it has been found during the incremental evolution with BN, Dropout etc, the results with this variant weren't comparable to the first (and hence the 1st one itself has been taken thru the next set of changes)\n"
   ]
  },
  {
   "cell_type": "code",
   "execution_count": 14,
   "metadata": {},
   "outputs": [],
   "source": [
    "#3rd NW: added Batch Normalization at each layer(we should expect some increase in accuracy in this case)"
   ]
  },
  {
   "cell_type": "markdown",
   "metadata": {},
   "source": [
    "Input Channels/Image  |  Conv2d/Transform      | Output Channels | RF\n",
    "---------------------|--------------|----------------------|----------------------\n",
    "`28x28x1`              | `(3x3x1)x8`   |      `26x26x8`  |      `3x3`| \n",
    "             |          `BN(8)`  |   \n",
    "             |          `ReLU`  | \n",
    "**26x26x8**             | **(3x3x8)x8**  |      **24x24x8** |      **5x5**\n",
    "             |          **BN(8)**  |   \n",
    "             |          **ReLU**  |                 \n",
    "**24x24x8**             | **(3x3x8)x16**  |      **22x22x16** |      **7x7** \n",
    "             |          **BN(16)**  |  \n",
    "             |          **ReLU**  |                 \n",
    "*22x22x16*             |   *MP(2x2)*    |      *11x11x16*   |      *8x8*                      \n",
    "*11x11x16*             | *(1x1x16)x8*  |      *11x11x8*    |      *8x8* \n",
    "             |          *BN(8)*  |  \n",
    "             |          *ReLU*  |     \n",
    "**11x11x8**             | **(3x3x8)x8**  |      **9x9x8** |      **12x12** \n",
    "             |          **BN(8)**  |  \n",
    "             |          **ReLU**  |       \n",
    "**9x9x8**               | **(3x3x8)x16**  |      **7x7x16**  |      **16x16** \n",
    "             |          **BN(16)**  |  \n",
    "             |          **ReLU**  |       \n",
    "*7x7x16*               | *(1x1x16)x10*  |      *7x7x10*    |      *16x16*  (NO RELU at the o/p of this layer)    \n",
    "7x7x10               | GAP  LAYER   |      1x10          |"
   ]
  },
  {
   "cell_type": "code",
   "execution_count": 4,
   "metadata": {},
   "outputs": [],
   "source": [
    "class Net3(nn.Module):\n",
    "    def __init__(self):\n",
    "        super(Net3, self).__init__()\n",
    "        self.conv1 = nn.Conv2d(1, 8, 3, bias=False)#input:28x28x1, output:26x26x8, RF:3x3\n",
    "        self.conv1_bn1 = nn.BatchNorm2d(8)\n",
    "\n",
    "        self.conv2 = nn.Conv2d(8, 8, 3, bias=False)#input:26x26x8, output:24x24x8, RF:5x5 \n",
    "        self.conv2_bn2 = nn.BatchNorm2d(8)\n",
    "        self.conv3 = nn.Conv2d(8, 16, 3, bias=False)#input:24x24x8, output:22x22x16, RF:7x7\n",
    "        self.conv3_bn3 = nn.BatchNorm2d(16)\n",
    "\n",
    "        self.pool1 = nn.MaxPool2d(2, 2)#input:22x22x16, output:11x11x16, RF:8x8  \n",
    "        self.conv4 = nn.Conv2d(16, 8, 1, bias=False)#input:11x11x16, output:11x11x8, RF:8x8\n",
    "        self.conv4_bn4 = nn.BatchNorm2d(8)\n",
    "\n",
    "        self.conv5 = nn.Conv2d(8, 8, 3, bias=False)#input:11x11x8, output:9x9x8, RF:12x12 \n",
    "        self.conv5_bn5 = nn.BatchNorm2d(8)\n",
    "        self.conv6 = nn.Conv2d(8, 16, 3, bias=False)#input:9x9x8, output:7x7x16, RF:16x16\n",
    "        self.conv6_bn6 = nn.BatchNorm2d(16)\n",
    "\n",
    "        self.conv7 = nn.Conv2d(16, 10, 1, bias=False)#input:7x7x16, output:7x7x10, RF:16x16\n",
    "        self.gap1 = nn.AvgPool2d(kernel_size=7)#input:7x7x10, output:1x1x10 (or 1x10, 1-D data format now)\n",
    "        \n",
    "    def forward(self, x):\n",
    "        x = F.relu(self.conv1_bn1(self.conv1(x)))# First Layer Separate\n",
    "        x = F.relu(self.conv3_bn3(self.conv3(F.relu(self.conv2_bn2(self.conv2(x))))))# First Block\n",
    "        x = F.relu(self.conv4_bn4(self.conv4(self.pool1(x))))# first transition block\n",
    "        x = F.relu(self.conv6_bn6(self.conv6(F.relu(self.conv5_bn5(self.conv5(x))))))# Second Block \n",
    "        x = self.conv7(x)#there is no ReLU at this 1x1 operator's O/p, leading to GAP & beyond \n",
    "        x = self.gap1(x) # Global Average Pool layer\n",
    "        x = x.view(-1, 10)#Num of classes = 10 (digits to be identified)\n",
    "        return F.log_softmax(x, dim=1)"
   ]
  },
  {
   "cell_type": "code",
   "execution_count": 5,
   "metadata": {},
   "outputs": [
    {
     "name": "stdout",
     "output_type": "stream",
     "text": [
      "----------------------------------------------------------------\n",
      "        Layer (type)               Output Shape         Param #\n",
      "================================================================\n",
      "            Conv2d-1            [-1, 8, 26, 26]              72\n",
      "       BatchNorm2d-2            [-1, 8, 26, 26]              16\n",
      "            Conv2d-3            [-1, 8, 24, 24]             576\n",
      "       BatchNorm2d-4            [-1, 8, 24, 24]              16\n",
      "            Conv2d-5           [-1, 16, 22, 22]           1,152\n",
      "       BatchNorm2d-6           [-1, 16, 22, 22]              32\n",
      "         MaxPool2d-7           [-1, 16, 11, 11]               0\n",
      "            Conv2d-8            [-1, 8, 11, 11]             128\n",
      "       BatchNorm2d-9            [-1, 8, 11, 11]              16\n",
      "           Conv2d-10              [-1, 8, 9, 9]             576\n",
      "      BatchNorm2d-11              [-1, 8, 9, 9]              16\n",
      "           Conv2d-12             [-1, 16, 7, 7]           1,152\n",
      "      BatchNorm2d-13             [-1, 16, 7, 7]              32\n",
      "           Conv2d-14             [-1, 10, 7, 7]             160\n",
      "        AvgPool2d-15             [-1, 10, 1, 1]               0\n",
      "================================================================\n",
      "Total params: 3,944\n",
      "Trainable params: 3,944\n",
      "Non-trainable params: 0\n",
      "----------------------------------------------------------------\n",
      "Input size (MB): 0.00\n",
      "Forward/backward pass size (MB): 0.33\n",
      "Params size (MB): 0.02\n",
      "Estimated Total Size (MB): 0.34\n",
      "----------------------------------------------------------------\n"
     ]
    }
   ],
   "source": [
    "use_cuda = torch.cuda.is_available()\n",
    "device = torch.device(\"cuda\" if use_cuda else \"cpu\")\n",
    "model3 = Net3().to(device)\n",
    "summary(model3, input_size=(1, 28, 28))"
   ]
  },
  {
   "cell_type": "code",
   "execution_count": 6,
   "metadata": {},
   "outputs": [
    {
     "data": {
      "text/plain": [
       "<torch._C.Generator at 0x2051e215330>"
      ]
     },
     "execution_count": 6,
     "metadata": {},
     "output_type": "execute_result"
    }
   ],
   "source": [
    "torch.manual_seed(1)\n",
    "batch_size = 64\n",
    "\n",
    "kwargs = {'num_workers': 1, 'pin_memory': True} if use_cuda else {}\n",
    "train_loader = torch.utils.data.DataLoader(\n",
    "    datasets.MNIST('../data', train=True, download=True,\n",
    "                    transform=transforms.Compose([\n",
    "                        transforms.ToTensor(),\n",
    "                        transforms.Normalize((0.1307,), (0.3081,))\n",
    "                    ])),\n",
    "    batch_size=batch_size, shuffle=True, **kwargs)\n",
    "test_loader = torch.utils.data.DataLoader(\n",
    "    datasets.MNIST('../data', train=False, transform=transforms.Compose([\n",
    "                        transforms.ToTensor(),\n",
    "                        transforms.Normalize((0.1307,), (0.3081,))\n",
    "                    ])),\n",
    "    batch_size=batch_size, shuffle=True, **kwargs)"
   ]
  },
  {
   "cell_type": "code",
   "execution_count": 7,
   "metadata": {},
   "outputs": [],
   "source": [
    "def train(model, device, train_loader, optimizer, epoch):\n",
    "    model.train()\n",
    "    train_loss = 0\n",
    "    train_correct = 0\n",
    "    acc=0\n",
    "    pbar = tqdm(train_loader)\n",
    "    for batch_idx, (data, target) in enumerate(pbar):\n",
    "        data, target = data.to(device), target.to(device)\n",
    "        optimizer.zero_grad()\n",
    "        output = model(data)\n",
    "        loss = F.nll_loss(output, target)\n",
    "        pred_train = output.argmax(dim=1, keepdim=True)  # get the index of the max log-probability\n",
    "        train_correct += pred_train.eq(target.view_as(pred_train)).sum().item()\n",
    "        loss.backward()\n",
    "        optimizer.step()\n",
    "        pbar.set_description(desc=f'epoch={epoch} loss={loss.item()} batch_id={batch_idx}')\n",
    "    train_loss = loss.item()\n",
    "    acc = 100. * train_correct / len(train_loader.dataset)\n",
    "    print('\\nEpoch {}--Train set: Average loss: {:.4f}, Training Accuracy: {}/{} ({:.2f}%)\\n'.format(\n",
    "        epoch, train_loss, train_correct, len(train_loader.dataset),\n",
    "        100. * train_correct / len(train_loader.dataset)))\n",
    "    return acc, train_loss\n",
    "\n",
    "\n",
    "def test(model, device, test_loader, epoch):\n",
    "    model.eval()\n",
    "    test_loss = 0\n",
    "    correct = 0\n",
    "    acc=0\n",
    "    with torch.no_grad():\n",
    "        for data, target in test_loader:\n",
    "            data, target = data.to(device), target.to(device)\n",
    "            output = model(data)\n",
    "            test_loss += F.nll_loss(output, target, reduction='sum').item()  # sum up batch loss\n",
    "            pred = output.argmax(dim=1, keepdim=True)  # get the index of the max log-probability\n",
    "            correct += pred.eq(target.view_as(pred)).sum().item()\n",
    "    \n",
    "    test_loss /= len(test_loader.dataset)\n",
    "    acc = 100. * correct / len(test_loader.dataset)\n",
    "    print('\\nEpoch {}--Test set: Average loss: {:.4f}, Validation Accuracy: {}/{} ({:.2f}%)\\n'.format(\n",
    "        epoch, test_loss, correct, len(test_loader.dataset),\n",
    "        100. * correct / len(test_loader.dataset)))\n",
    "    return acc, test_loss"
   ]
  },
  {
   "cell_type": "code",
   "execution_count": 8,
   "metadata": {
    "scrolled": false
   },
   "outputs": [
    {
     "name": "stderr",
     "output_type": "stream",
     "text": [
      "epoch=1 loss=0.15882736444473267 batch_id=937: 100%|█████████████████████████████████| 938/938 [00:15<00:00, 62.37it/s]\n"
     ]
    },
    {
     "name": "stdout",
     "output_type": "stream",
     "text": [
      "\n",
      "Epoch 1--Train set: Average loss: 0.1588, Training Accuracy: 50634/60000 (84.39%)\n",
      "\n",
      "\n",
      "Epoch 1--Test set: Average loss: 0.1680, Validation Accuracy: 9517/10000 (95.17%)\n",
      "\n"
     ]
    },
    {
     "name": "stderr",
     "output_type": "stream",
     "text": [
      "epoch=2 loss=0.10528799891471863 batch_id=937: 100%|█████████████████████████████████| 938/938 [00:18<00:00, 51.62it/s]\n"
     ]
    },
    {
     "name": "stdout",
     "output_type": "stream",
     "text": [
      "\n",
      "Epoch 2--Train set: Average loss: 0.1053, Training Accuracy: 58008/60000 (96.68%)\n",
      "\n",
      "\n",
      "Epoch 2--Test set: Average loss: 0.1391, Validation Accuracy: 9557/10000 (95.57%)\n",
      "\n"
     ]
    },
    {
     "name": "stderr",
     "output_type": "stream",
     "text": [
      "epoch=3 loss=0.08519882708787918 batch_id=937: 100%|█████████████████████████████████| 938/938 [00:18<00:00, 52.10it/s]\n"
     ]
    },
    {
     "name": "stdout",
     "output_type": "stream",
     "text": [
      "\n",
      "Epoch 3--Train set: Average loss: 0.0852, Training Accuracy: 58463/60000 (97.44%)\n",
      "\n",
      "\n",
      "Epoch 3--Test set: Average loss: 0.0705, Validation Accuracy: 9798/10000 (97.98%)\n",
      "\n"
     ]
    },
    {
     "name": "stderr",
     "output_type": "stream",
     "text": [
      "epoch=4 loss=0.11752767115831375 batch_id=937: 100%|█████████████████████████████████| 938/938 [00:18<00:00, 50.45it/s]\n"
     ]
    },
    {
     "name": "stdout",
     "output_type": "stream",
     "text": [
      "\n",
      "Epoch 4--Train set: Average loss: 0.1175, Training Accuracy: 58679/60000 (97.80%)\n",
      "\n",
      "\n",
      "Epoch 4--Test set: Average loss: 0.0732, Validation Accuracy: 9778/10000 (97.78%)\n",
      "\n"
     ]
    },
    {
     "name": "stderr",
     "output_type": "stream",
     "text": [
      "epoch=5 loss=0.42502066493034363 batch_id=937: 100%|█████████████████████████████████| 938/938 [00:18<00:00, 50.28it/s]\n"
     ]
    },
    {
     "name": "stdout",
     "output_type": "stream",
     "text": [
      "\n",
      "Epoch 5--Train set: Average loss: 0.4250, Training Accuracy: 58842/60000 (98.07%)\n",
      "\n",
      "\n",
      "Epoch 5--Test set: Average loss: 0.0574, Validation Accuracy: 9843/10000 (98.43%)\n",
      "\n"
     ]
    },
    {
     "name": "stderr",
     "output_type": "stream",
     "text": [
      "epoch=6 loss=0.1392337530851364 batch_id=937: 100%|██████████████████████████████████| 938/938 [00:18<00:00, 51.24it/s]\n"
     ]
    },
    {
     "name": "stdout",
     "output_type": "stream",
     "text": [
      "\n",
      "Epoch 6--Train set: Average loss: 0.1392, Training Accuracy: 58970/60000 (98.28%)\n",
      "\n",
      "\n",
      "Epoch 6--Test set: Average loss: 0.0507, Validation Accuracy: 9846/10000 (98.46%)\n",
      "\n"
     ]
    },
    {
     "name": "stderr",
     "output_type": "stream",
     "text": [
      "epoch=7 loss=0.04019387066364288 batch_id=937: 100%|█████████████████████████████████| 938/938 [00:18<00:00, 50.01it/s]\n"
     ]
    },
    {
     "name": "stdout",
     "output_type": "stream",
     "text": [
      "\n",
      "Epoch 7--Train set: Average loss: 0.0402, Training Accuracy: 59031/60000 (98.39%)\n",
      "\n",
      "\n",
      "Epoch 7--Test set: Average loss: 0.0560, Validation Accuracy: 9823/10000 (98.23%)\n",
      "\n"
     ]
    },
    {
     "name": "stderr",
     "output_type": "stream",
     "text": [
      "epoch=8 loss=0.0286845862865448 batch_id=937: 100%|██████████████████████████████████| 938/938 [00:18<00:00, 49.41it/s]\n"
     ]
    },
    {
     "name": "stdout",
     "output_type": "stream",
     "text": [
      "\n",
      "Epoch 8--Train set: Average loss: 0.0287, Training Accuracy: 59069/60000 (98.45%)\n",
      "\n",
      "\n",
      "Epoch 8--Test set: Average loss: 0.0441, Validation Accuracy: 9866/10000 (98.66%)\n",
      "\n"
     ]
    },
    {
     "name": "stderr",
     "output_type": "stream",
     "text": [
      "epoch=9 loss=0.08036293089389801 batch_id=937: 100%|█████████████████████████████████| 938/938 [00:18<00:00, 53.85it/s]\n"
     ]
    },
    {
     "name": "stdout",
     "output_type": "stream",
     "text": [
      "\n",
      "Epoch 9--Train set: Average loss: 0.0804, Training Accuracy: 59114/60000 (98.52%)\n",
      "\n",
      "\n",
      "Epoch 9--Test set: Average loss: 0.0412, Validation Accuracy: 9889/10000 (98.89%)\n",
      "\n"
     ]
    },
    {
     "name": "stderr",
     "output_type": "stream",
     "text": [
      "epoch=10 loss=0.01831786334514618 batch_id=937: 100%|████████████████████████████████| 938/938 [00:18<00:00, 49.95it/s]\n"
     ]
    },
    {
     "name": "stdout",
     "output_type": "stream",
     "text": [
      "\n",
      "Epoch 10--Train set: Average loss: 0.0183, Training Accuracy: 59232/60000 (98.72%)\n",
      "\n",
      "\n",
      "Epoch 10--Test set: Average loss: 0.0498, Validation Accuracy: 9851/10000 (98.51%)\n",
      "\n"
     ]
    },
    {
     "name": "stderr",
     "output_type": "stream",
     "text": [
      "epoch=11 loss=0.007248088717460632 batch_id=937: 100%|███████████████████████████████| 938/938 [00:19<00:00, 49.05it/s]\n"
     ]
    },
    {
     "name": "stdout",
     "output_type": "stream",
     "text": [
      "\n",
      "Epoch 11--Train set: Average loss: 0.0072, Training Accuracy: 59234/60000 (98.72%)\n",
      "\n",
      "\n",
      "Epoch 11--Test set: Average loss: 0.0400, Validation Accuracy: 9883/10000 (98.83%)\n",
      "\n"
     ]
    },
    {
     "name": "stderr",
     "output_type": "stream",
     "text": [
      "epoch=12 loss=0.006146252155303955 batch_id=937: 100%|███████████████████████████████| 938/938 [00:18<00:00, 54.76it/s]\n"
     ]
    },
    {
     "name": "stdout",
     "output_type": "stream",
     "text": [
      "\n",
      "Epoch 12--Train set: Average loss: 0.0061, Training Accuracy: 59303/60000 (98.84%)\n",
      "\n",
      "\n",
      "Epoch 12--Test set: Average loss: 0.0426, Validation Accuracy: 9863/10000 (98.63%)\n",
      "\n"
     ]
    },
    {
     "name": "stderr",
     "output_type": "stream",
     "text": [
      "epoch=13 loss=0.03886513411998749 batch_id=937: 100%|████████████████████████████████| 938/938 [00:18<00:00, 50.03it/s]\n"
     ]
    },
    {
     "name": "stdout",
     "output_type": "stream",
     "text": [
      "\n",
      "Epoch 13--Train set: Average loss: 0.0389, Training Accuracy: 59321/60000 (98.87%)\n",
      "\n",
      "\n",
      "Epoch 13--Test set: Average loss: 0.0368, Validation Accuracy: 9882/10000 (98.82%)\n",
      "\n"
     ]
    },
    {
     "name": "stderr",
     "output_type": "stream",
     "text": [
      "epoch=14 loss=0.1306706666946411 batch_id=937: 100%|█████████████████████████████████| 938/938 [00:19<00:00, 48.08it/s]\n"
     ]
    },
    {
     "name": "stdout",
     "output_type": "stream",
     "text": [
      "\n",
      "Epoch 14--Train set: Average loss: 0.1307, Training Accuracy: 59332/60000 (98.89%)\n",
      "\n",
      "\n",
      "Epoch 14--Test set: Average loss: 0.0375, Validation Accuracy: 9879/10000 (98.79%)\n",
      "\n"
     ]
    },
    {
     "name": "stderr",
     "output_type": "stream",
     "text": [
      "epoch=15 loss=0.013973340392112732 batch_id=937: 100%|███████████████████████████████| 938/938 [00:18<00:00, 50.08it/s]\n"
     ]
    },
    {
     "name": "stdout",
     "output_type": "stream",
     "text": [
      "\n",
      "Epoch 15--Train set: Average loss: 0.0140, Training Accuracy: 59344/60000 (98.91%)\n",
      "\n",
      "\n",
      "Epoch 15--Test set: Average loss: 0.0343, Validation Accuracy: 9894/10000 (98.94%)\n",
      "\n"
     ]
    },
    {
     "name": "stderr",
     "output_type": "stream",
     "text": [
      "epoch=16 loss=0.010487392544746399 batch_id=937: 100%|███████████████████████████████| 938/938 [00:19<00:00, 48.71it/s]\n"
     ]
    },
    {
     "name": "stdout",
     "output_type": "stream",
     "text": [
      "\n",
      "Epoch 16--Train set: Average loss: 0.0105, Training Accuracy: 59369/60000 (98.95%)\n",
      "\n",
      "\n",
      "Epoch 16--Test set: Average loss: 0.0383, Validation Accuracy: 9878/10000 (98.78%)\n",
      "\n"
     ]
    },
    {
     "name": "stderr",
     "output_type": "stream",
     "text": [
      "epoch=17 loss=0.16186638176441193 batch_id=937: 100%|████████████████████████████████| 938/938 [00:18<00:00, 55.18it/s]\n"
     ]
    },
    {
     "name": "stdout",
     "output_type": "stream",
     "text": [
      "\n",
      "Epoch 17--Train set: Average loss: 0.1619, Training Accuracy: 59400/60000 (99.00%)\n",
      "\n",
      "\n",
      "Epoch 17--Test set: Average loss: 0.0383, Validation Accuracy: 9889/10000 (98.89%)\n",
      "\n"
     ]
    },
    {
     "name": "stderr",
     "output_type": "stream",
     "text": [
      "epoch=18 loss=0.060642242431640625 batch_id=937: 100%|███████████████████████████████| 938/938 [00:18<00:00, 49.89it/s]\n"
     ]
    },
    {
     "name": "stdout",
     "output_type": "stream",
     "text": [
      "\n",
      "Epoch 18--Train set: Average loss: 0.0606, Training Accuracy: 59400/60000 (99.00%)\n",
      "\n",
      "\n",
      "Epoch 18--Test set: Average loss: 0.0361, Validation Accuracy: 9881/10000 (98.81%)\n",
      "\n"
     ]
    },
    {
     "name": "stderr",
     "output_type": "stream",
     "text": [
      "epoch=19 loss=0.0007540583610534668 batch_id=937: 100%|██████████████████████████████| 938/938 [00:19<00:00, 48.94it/s]\n"
     ]
    },
    {
     "name": "stdout",
     "output_type": "stream",
     "text": [
      "\n",
      "Epoch 19--Train set: Average loss: 0.0008, Training Accuracy: 59451/60000 (99.08%)\n",
      "\n",
      "\n",
      "Epoch 19--Test set: Average loss: 0.0404, Validation Accuracy: 9878/10000 (98.78%)\n",
      "\n"
     ]
    },
    {
     "name": "stderr",
     "output_type": "stream",
     "text": [
      "epoch=20 loss=0.012153729796409607 batch_id=937: 100%|███████████████████████████████| 938/938 [00:18<00:00, 50.29it/s]\n"
     ]
    },
    {
     "name": "stdout",
     "output_type": "stream",
     "text": [
      "\n",
      "Epoch 20--Train set: Average loss: 0.0122, Training Accuracy: 59410/60000 (99.02%)\n",
      "\n",
      "\n",
      "Epoch 20--Test set: Average loss: 0.0394, Validation Accuracy: 9874/10000 (98.74%)\n",
      "\n"
     ]
    }
   ],
   "source": [
    "model3 = Net3().to(device)\n",
    "optimizer = optim.SGD(model3.parameters(), lr=0.01, momentum=0.9)\n",
    "acc_history = []\n",
    "loss_history = []\n",
    "val_acc_history = []\n",
    "val_loss_history = []\n",
    "for epoch in range(1, 21):\n",
    "    acc, train_loss = train(model3, device, train_loader, optimizer, epoch)\n",
    "    val_acc, test_loss = test(model3, device, test_loader, epoch)\n",
    "    acc_history.append(acc)\n",
    "    loss_history.append(train_loss)\n",
    "    val_acc_history.append(val_acc)\n",
    "    val_loss_history.append(test_loss)"
   ]
  },
  {
   "cell_type": "code",
   "execution_count": 9,
   "metadata": {},
   "outputs": [
    {
     "data": {
      "image/png": "[encoded data removed]",
      "text/plain": [
       "<Figure size 432x288 with 1 Axes>"
      ]
     },
     "metadata": {
      "needs_background": "light"
     },
     "output_type": "display_data"
    }
   ],
   "source": [
    "_= plt.plot(acc_history)\n",
    "_= plt.plot(val_acc_history)\n",
    "_= plt.title('model accuracy')\n",
    "_= plt.ylabel('accuracy')\n",
    "_= plt.xlabel('epoch')\n",
    "_= plt.legend(['train', 'val'], loc='upper left')\n",
    "_= plt.show()"
   ]
  },
  {
   "cell_type": "code",
   "execution_count": 10,
   "metadata": {},
   "outputs": [
    {
     "data": {
      "image/png": "[encoded data removed]",
      "text/plain": [
       "<Figure size 432x288 with 1 Axes>"
      ]
     },
     "metadata": {
      "needs_background": "light"
     },
     "output_type": "display_data"
    }
   ],
   "source": [
    "_= plt.plot(loss_history)\n",
    "_= plt.plot(val_loss_history)\n",
    "_= plt.title('model loss')\n",
    "_= plt.ylabel('loss')\n",
    "_= plt.xlabel('epoch')\n",
    "_= plt.legend(['train', 'val'], loc='upper left')\n",
    "_= plt.show()"
   ]
  },
  {
   "cell_type": "markdown",
   "metadata": {},
   "source": [
    "- Total params: 3,944 (which is expectedly, higher as compared to the 1st NW) & the max validation accuracy reaches: ~98.94%\n",
    "- we got little better in terms of the reached accuracy  but expectedly, far from the required accuracy goal.\n",
    "- Also in terms of the accuracy plot & logs, we could see that the further potential for increase for the validation accuracy has not yet opened up (it is overfitting...i.e. the training accuracy has reached 99.08% but the validation acuracy still under ~98.8%, hence not much scope for further increase with a corresponding increase in training accuracy )\n",
    "- just like the earlier NWs, this one can't meet the goal within the required 20 epochs(capacity boost required)"
   ]
  },
  {
   "cell_type": "code",
   "execution_count": 12,
   "metadata": {},
   "outputs": [],
   "source": [
    "#4th NW: added Dropout as well at each layer apart from the BN(we should expect lesser overfitting \n",
    "# i.e an increase in the \"potential\" to increase validation accuracy with corresponding increase in training-accuracy)\n",
    "# i.e. a gap opens up\n",
    "# The value for 3% for Dropout was giving a better results as compared to other test-ranges from 1-10%"
   ]
  },
  {
   "cell_type": "markdown",
   "metadata": {},
   "source": [
    "Input Channels/Image  |  Conv2d/Transform      | Output Channels | RF\n",
    "---------------------|--------------|----------------------|----------------------\n",
    "`28x28x1`              | `(3x3x1)x8`   |      `26x26x8`  |      `3x3`| \n",
    "             |          `BN(8)`  | \n",
    "             |          `Dropout(3%)`  |                \n",
    "             |          `ReLU`  | \n",
    "**26x26x8**             | **(3x3x8)x8**  |      **24x24x8** |      **5x5**\n",
    "             |          **BN(8)**  | \n",
    "             |          **Dropout(3%)** |                \n",
    "             |          **ReLU**  |                 \n",
    "**24x24x8**             | **(3x3x8)x16**  |      **22x22x16** |      **7x7** \n",
    "             |          **BN(16)**  | \n",
    "             |          **Dropout(3%)** |              \n",
    "             |          **ReLU**  |                 \n",
    "*22x22x16*             |   *MP(2x2)*    |      *11x11x16*   |      *8x8*                      \n",
    "*11x11x16*             | *(1x1x16)x8*  |      *11x11x8*    |      *8x8* \n",
    "             |          *BN(8)*  |  \n",
    "             |          *Dropout(3%)* |              \n",
    "             |          *ReLU*  |     \n",
    "**11x11x8**             | **(3x3x8)x8**  |      **9x9x8** |      **12x12** \n",
    "             |          **BN(8)**  | \n",
    "             |          **Dropout(3%)** |             \n",
    "             |          **ReLU**  |       \n",
    "**9x9x8**               | **(3x3x8)x16**  |      **7x7x16**  |      **16x16** \n",
    "             |          **BN(16)**  |  \n",
    "             |          **Dropout(3%)** |             \n",
    "             |          **ReLU**  |       \n",
    "*7x7x16*               | *(1x1x16)x10*  |      *7x7x10*    |      *16x16*  (NO RELU at the o/p of this layer)    \n",
    "7x7x10               | GAP  LAYER   |      1x10          |"
   ]
  },
  {
   "cell_type": "code",
   "execution_count": 4,
   "metadata": {},
   "outputs": [],
   "source": [
    "class Net4(nn.Module):\n",
    "    def __init__(self):\n",
    "        super(Net4, self).__init__()\n",
    "        self.conv1 = nn.Conv2d(1, 8, 3, bias=False)#input:28x28x1, output:26x26x8, RF:3x3\n",
    "        self.conv1_bn1 = nn.BatchNorm2d(8)\n",
    "        self.conv1_drop1 = nn.Dropout2d(0.03)\n",
    "\n",
    "        self.conv2 = nn.Conv2d(8, 8, 3, bias=False)#input:26x26x8, output:24x24x8, RF:5x5 \n",
    "        self.conv2_bn2 = nn.BatchNorm2d(8)\n",
    "        self.conv2_drop2 = nn.Dropout2d(0.03)\n",
    "        self.conv3 = nn.Conv2d(8, 16, 3, bias=False)#input:24x24x8, output:22x22x16, RF:7x7\n",
    "        self.conv3_bn3 = nn.BatchNorm2d(16)\n",
    "        self.conv3_drop3 = nn.Dropout2d(0.03)\n",
    "\n",
    "        self.pool1 = nn.MaxPool2d(2, 2)#input:22x22x16, output:11x11x16, RF:8x8  \n",
    "        self.conv4 = nn.Conv2d(16, 8, 1, bias=False)#input:11x11x16, output:11x11x8, RF:8x8\n",
    "        self.conv4_bn4 = nn.BatchNorm2d(8)\n",
    "        self.conv4_drop4 = nn.Dropout2d(0.03)\n",
    "\n",
    "        self.conv5 = nn.Conv2d(8, 8, 3, bias=False)#input:11x11x8, output:9x9x8, RF:12x12 \n",
    "        self.conv5_bn5 = nn.BatchNorm2d(8)\n",
    "        self.conv5_drop5 = nn.Dropout2d(0.03)\n",
    "        self.conv6 = nn.Conv2d(8, 16, 3, bias=False)#input:9x9x8, output:7x7x16, RF:16x16\n",
    "        self.conv6_bn6 = nn.BatchNorm2d(16)\n",
    "        self.conv6_drop6 = nn.Dropout2d(0.03)\n",
    "\n",
    "        self.conv7 = nn.Conv2d(16, 10, 1, bias=False)#input:7x7x16, output:7x7x10, RF:16x16\n",
    "        self.gap1 = nn.AvgPool2d(kernel_size=7)#input:7x7x10, output:1x1x10 (or 1x10, 1-D data format now)\n",
    "        \n",
    "    def forward(self, x):\n",
    "        x = F.relu(self.conv1_drop1(self.conv1_bn1(self.conv1(x))))# First Layer Separate\n",
    "        x = F.relu(self.conv3_drop3(self.conv3_bn3(self.conv3(F.relu(self.conv2_drop2(self.conv2_bn2(self.conv2(x))))))))# First Block\n",
    "        x = F.relu(self.conv4_drop4(self.conv4_bn4(self.conv4(self.pool1(x)))))# first transition block\n",
    "        x = F.relu(self.conv6_drop6(self.conv6_bn6(self.conv6(F.relu(self.conv5_drop5(self.conv5_bn5(self.conv5(x))))))))# Second Block \n",
    "        x = self.conv7(x)#no ReLU at 2nd Transition Block O/p(without a maxpool towards the end here)leading to GAP & beyond) \n",
    "        x = self.gap1(x) # Global Average Pool layer\n",
    "        x = x.view(-1, 10)#Num of classes = 10 (digits to be identified)\n",
    "        return F.log_softmax(x, dim=1)"
   ]
  },
  {
   "cell_type": "code",
   "execution_count": 5,
   "metadata": {},
   "outputs": [
    {
     "name": "stdout",
     "output_type": "stream",
     "text": [
      "----------------------------------------------------------------\n",
      "        Layer (type)               Output Shape         Param #\n",
      "================================================================\n",
      "            Conv2d-1            [-1, 8, 26, 26]              72\n",
      "       BatchNorm2d-2            [-1, 8, 26, 26]              16\n",
      "         Dropout2d-3            [-1, 8, 26, 26]               0\n",
      "            Conv2d-4            [-1, 8, 24, 24]             576\n",
      "       BatchNorm2d-5            [-1, 8, 24, 24]              16\n",
      "         Dropout2d-6            [-1, 8, 24, 24]               0\n",
      "            Conv2d-7           [-1, 16, 22, 22]           1,152\n",
      "       BatchNorm2d-8           [-1, 16, 22, 22]              32\n",
      "         Dropout2d-9           [-1, 16, 22, 22]               0\n",
      "        MaxPool2d-10           [-1, 16, 11, 11]               0\n",
      "           Conv2d-11            [-1, 8, 11, 11]             128\n",
      "      BatchNorm2d-12            [-1, 8, 11, 11]              16\n",
      "        Dropout2d-13            [-1, 8, 11, 11]               0\n",
      "           Conv2d-14              [-1, 8, 9, 9]             576\n",
      "      BatchNorm2d-15              [-1, 8, 9, 9]              16\n",
      "        Dropout2d-16              [-1, 8, 9, 9]               0\n",
      "           Conv2d-17             [-1, 16, 7, 7]           1,152\n",
      "      BatchNorm2d-18             [-1, 16, 7, 7]              32\n",
      "        Dropout2d-19             [-1, 16, 7, 7]               0\n",
      "           Conv2d-20             [-1, 10, 7, 7]             160\n",
      "        AvgPool2d-21             [-1, 10, 1, 1]               0\n",
      "================================================================\n",
      "Total params: 3,944\n",
      "Trainable params: 3,944\n",
      "Non-trainable params: 0\n",
      "----------------------------------------------------------------\n",
      "Input size (MB): 0.00\n",
      "Forward/backward pass size (MB): 0.48\n",
      "Params size (MB): 0.02\n",
      "Estimated Total Size (MB): 0.50\n",
      "----------------------------------------------------------------\n"
     ]
    }
   ],
   "source": [
    "use_cuda = torch.cuda.is_available()\n",
    "device = torch.device(\"cuda\" if use_cuda else \"cpu\")\n",
    "model4 = Net4().to(device)\n",
    "summary(model4, input_size=(1, 28, 28))"
   ]
  },
  {
   "cell_type": "code",
   "execution_count": 6,
   "metadata": {},
   "outputs": [
    {
     "data": {
      "text/plain": [
       "<torch._C.Generator at 0x22fce0240b0>"
      ]
     },
     "execution_count": 6,
     "metadata": {},
     "output_type": "execute_result"
    }
   ],
   "source": [
    "torch.manual_seed(1)\n",
    "batch_size = 128\n",
    "\n",
    "kwargs = {'num_workers': 1, 'pin_memory': True} if use_cuda else {}\n",
    "train_loader = torch.utils.data.DataLoader(\n",
    "    datasets.MNIST('../data', train=True, download=True,\n",
    "                    transform=transforms.Compose([\n",
    "                        transforms.ToTensor(),\n",
    "                        transforms.Normalize((0.1307,), (0.3081,))\n",
    "                    ])),\n",
    "    batch_size=batch_size, shuffle=True, **kwargs)\n",
    "test_loader = torch.utils.data.DataLoader(\n",
    "    datasets.MNIST('../data', train=False, transform=transforms.Compose([\n",
    "                        transforms.ToTensor(),\n",
    "                        transforms.Normalize((0.1307,), (0.3081,))\n",
    "                    ])),\n",
    "    batch_size=batch_size, shuffle=True, **kwargs)"
   ]
  },
  {
   "cell_type": "code",
   "execution_count": 7,
   "metadata": {
    "scrolled": false
   },
   "outputs": [
    {
     "name": "stderr",
     "output_type": "stream",
     "text": [
      "epoch=1 loss=0.5693467259407043 batch_id=468: 100%|██████████████████████████████████| 469/469 [00:14<00:00, 34.78it/s]\n"
     ]
    },
    {
     "name": "stdout",
     "output_type": "stream",
     "text": [
      "\n",
      "Epoch 1--Train set: Average loss: 0.5693, Training Accuracy: 36677/60000 (61.13%)\n",
      "\n",
      "\n",
      "Epoch 1--Test set: Average loss: 0.3870, Validation Accuracy: 9366/10000 (93.66%)\n",
      "\n"
     ]
    },
    {
     "name": "stderr",
     "output_type": "stream",
     "text": [
      "epoch=2 loss=0.316652774810791 batch_id=468: 100%|███████████████████████████████████| 469/469 [00:16<00:00, 26.93it/s]\n"
     ]
    },
    {
     "name": "stdout",
     "output_type": "stream",
     "text": [
      "\n",
      "Epoch 2--Train set: Average loss: 0.3167, Training Accuracy: 52933/60000 (88.22%)\n",
      "\n",
      "\n",
      "Epoch 2--Test set: Average loss: 0.1754, Validation Accuracy: 9624/10000 (96.24%)\n",
      "\n"
     ]
    },
    {
     "name": "stderr",
     "output_type": "stream",
     "text": [
      "epoch=3 loss=0.22723042964935303 batch_id=468: 100%|█████████████████████████████████| 469/469 [00:16<00:00, 27.76it/s]\n"
     ]
    },
    {
     "name": "stdout",
     "output_type": "stream",
     "text": [
      "\n",
      "Epoch 3--Train set: Average loss: 0.2272, Training Accuracy: 54858/60000 (91.43%)\n",
      "\n",
      "\n",
      "Epoch 3--Test set: Average loss: 0.1281, Validation Accuracy: 9704/10000 (97.04%)\n",
      "\n"
     ]
    },
    {
     "name": "stderr",
     "output_type": "stream",
     "text": [
      "epoch=4 loss=0.23588551580905914 batch_id=468: 100%|█████████████████████████████████| 469/469 [00:16<00:00, 27.90it/s]\n"
     ]
    },
    {
     "name": "stdout",
     "output_type": "stream",
     "text": [
      "\n",
      "Epoch 4--Train set: Average loss: 0.2359, Training Accuracy: 55649/60000 (92.75%)\n",
      "\n",
      "\n",
      "Epoch 4--Test set: Average loss: 0.1003, Validation Accuracy: 9710/10000 (97.10%)\n",
      "\n"
     ]
    },
    {
     "name": "stderr",
     "output_type": "stream",
     "text": [
      "epoch=5 loss=0.198771670460701 batch_id=468: 100%|███████████████████████████████████| 469/469 [00:17<00:00, 26.55it/s]\n"
     ]
    },
    {
     "name": "stdout",
     "output_type": "stream",
     "text": [
      "\n",
      "Epoch 5--Train set: Average loss: 0.1988, Training Accuracy: 56165/60000 (93.61%)\n",
      "\n",
      "\n",
      "Epoch 5--Test set: Average loss: 0.0907, Validation Accuracy: 9763/10000 (97.63%)\n",
      "\n"
     ]
    },
    {
     "name": "stderr",
     "output_type": "stream",
     "text": [
      "epoch=6 loss=0.1972697228193283 batch_id=468: 100%|██████████████████████████████████| 469/469 [00:17<00:00, 28.41it/s]\n"
     ]
    },
    {
     "name": "stdout",
     "output_type": "stream",
     "text": [
      "\n",
      "Epoch 6--Train set: Average loss: 0.1973, Training Accuracy: 56354/60000 (93.92%)\n",
      "\n",
      "\n",
      "Epoch 6--Test set: Average loss: 0.0804, Validation Accuracy: 9762/10000 (97.62%)\n",
      "\n"
     ]
    },
    {
     "name": "stderr",
     "output_type": "stream",
     "text": [
      "epoch=7 loss=0.18749789893627167 batch_id=468: 100%|█████████████████████████████████| 469/469 [00:17<00:00, 27.46it/s]\n"
     ]
    },
    {
     "name": "stdout",
     "output_type": "stream",
     "text": [
      "\n",
      "Epoch 7--Train set: Average loss: 0.1875, Training Accuracy: 56579/60000 (94.30%)\n",
      "\n",
      "\n",
      "Epoch 7--Test set: Average loss: 0.0732, Validation Accuracy: 9790/10000 (97.90%)\n",
      "\n"
     ]
    },
    {
     "name": "stderr",
     "output_type": "stream",
     "text": [
      "epoch=8 loss=0.17562086880207062 batch_id=468: 100%|█████████████████████████████████| 469/469 [00:17<00:00, 27.20it/s]\n"
     ]
    },
    {
     "name": "stdout",
     "output_type": "stream",
     "text": [
      "\n",
      "Epoch 8--Train set: Average loss: 0.1756, Training Accuracy: 56801/60000 (94.67%)\n",
      "\n",
      "\n",
      "Epoch 8--Test set: Average loss: 0.0715, Validation Accuracy: 9806/10000 (98.06%)\n",
      "\n"
     ]
    },
    {
     "name": "stderr",
     "output_type": "stream",
     "text": [
      "epoch=9 loss=0.14125289022922516 batch_id=468: 100%|█████████████████████████████████| 469/469 [00:17<00:00, 27.41it/s]\n"
     ]
    },
    {
     "name": "stdout",
     "output_type": "stream",
     "text": [
      "\n",
      "Epoch 9--Train set: Average loss: 0.1413, Training Accuracy: 56888/60000 (94.81%)\n",
      "\n",
      "\n",
      "Epoch 9--Test set: Average loss: 0.0665, Validation Accuracy: 9804/10000 (98.04%)\n",
      "\n"
     ]
    },
    {
     "name": "stderr",
     "output_type": "stream",
     "text": [
      "epoch=10 loss=0.10024780035018921 batch_id=468: 100%|████████████████████████████████| 469/469 [00:17<00:00, 26.38it/s]\n"
     ]
    },
    {
     "name": "stdout",
     "output_type": "stream",
     "text": [
      "\n",
      "Epoch 10--Train set: Average loss: 0.1002, Training Accuracy: 57015/60000 (95.03%)\n",
      "\n",
      "\n",
      "Epoch 10--Test set: Average loss: 0.0655, Validation Accuracy: 9810/10000 (98.10%)\n",
      "\n"
     ]
    },
    {
     "name": "stderr",
     "output_type": "stream",
     "text": [
      "epoch=11 loss=0.08846772462129593 batch_id=468: 100%|████████████████████████████████| 469/469 [00:17<00:00, 27.67it/s]\n"
     ]
    },
    {
     "name": "stdout",
     "output_type": "stream",
     "text": [
      "\n",
      "Epoch 11--Train set: Average loss: 0.0885, Training Accuracy: 57074/60000 (95.12%)\n",
      "\n",
      "\n",
      "Epoch 11--Test set: Average loss: 0.0642, Validation Accuracy: 9805/10000 (98.05%)\n",
      "\n"
     ]
    },
    {
     "name": "stderr",
     "output_type": "stream",
     "text": [
      "epoch=12 loss=0.12440105527639389 batch_id=468: 100%|████████████████████████████████| 469/469 [00:17<00:00, 28.18it/s]\n"
     ]
    },
    {
     "name": "stdout",
     "output_type": "stream",
     "text": [
      "\n",
      "Epoch 12--Train set: Average loss: 0.1244, Training Accuracy: 57255/60000 (95.42%)\n",
      "\n",
      "\n",
      "Epoch 12--Test set: Average loss: 0.0592, Validation Accuracy: 9828/10000 (98.28%)\n",
      "\n"
     ]
    },
    {
     "name": "stderr",
     "output_type": "stream",
     "text": [
      "epoch=13 loss=0.12033355981111526 batch_id=468: 100%|████████████████████████████████| 469/469 [00:17<00:00, 27.49it/s]\n"
     ]
    },
    {
     "name": "stdout",
     "output_type": "stream",
     "text": [
      "\n",
      "Epoch 13--Train set: Average loss: 0.1203, Training Accuracy: 57284/60000 (95.47%)\n",
      "\n",
      "\n",
      "Epoch 13--Test set: Average loss: 0.0559, Validation Accuracy: 9822/10000 (98.22%)\n",
      "\n"
     ]
    },
    {
     "name": "stderr",
     "output_type": "stream",
     "text": [
      "epoch=14 loss=0.1474582403898239 batch_id=468: 100%|█████████████████████████████████| 469/469 [00:17<00:00, 27.38it/s]\n"
     ]
    },
    {
     "name": "stdout",
     "output_type": "stream",
     "text": [
      "\n",
      "Epoch 14--Train set: Average loss: 0.1475, Training Accuracy: 57325/60000 (95.54%)\n",
      "\n",
      "\n",
      "Epoch 14--Test set: Average loss: 0.0590, Validation Accuracy: 9819/10000 (98.19%)\n",
      "\n"
     ]
    },
    {
     "name": "stderr",
     "output_type": "stream",
     "text": [
      "epoch=15 loss=0.14605693519115448 batch_id=468: 100%|████████████████████████████████| 469/469 [00:18<00:00, 25.91it/s]\n"
     ]
    },
    {
     "name": "stdout",
     "output_type": "stream",
     "text": [
      "\n",
      "Epoch 15--Train set: Average loss: 0.1461, Training Accuracy: 57390/60000 (95.65%)\n",
      "\n",
      "\n",
      "Epoch 15--Test set: Average loss: 0.0555, Validation Accuracy: 9833/10000 (98.33%)\n",
      "\n"
     ]
    },
    {
     "name": "stderr",
     "output_type": "stream",
     "text": [
      "epoch=16 loss=0.14972145855426788 batch_id=468: 100%|████████████████████████████████| 469/469 [00:17<00:00, 26.28it/s]\n"
     ]
    },
    {
     "name": "stdout",
     "output_type": "stream",
     "text": [
      "\n",
      "Epoch 16--Train set: Average loss: 0.1497, Training Accuracy: 57489/60000 (95.81%)\n",
      "\n",
      "\n",
      "Epoch 16--Test set: Average loss: 0.0553, Validation Accuracy: 9840/10000 (98.40%)\n",
      "\n"
     ]
    },
    {
     "name": "stderr",
     "output_type": "stream",
     "text": [
      "epoch=17 loss=0.17868442833423615 batch_id=468: 100%|████████████████████████████████| 469/469 [00:17<00:00, 27.09it/s]\n"
     ]
    },
    {
     "name": "stdout",
     "output_type": "stream",
     "text": [
      "\n",
      "Epoch 17--Train set: Average loss: 0.1787, Training Accuracy: 57528/60000 (95.88%)\n",
      "\n",
      "\n",
      "Epoch 17--Test set: Average loss: 0.0542, Validation Accuracy: 9836/10000 (98.36%)\n",
      "\n"
     ]
    },
    {
     "name": "stderr",
     "output_type": "stream",
     "text": [
      "epoch=18 loss=0.12796051800251007 batch_id=468: 100%|████████████████████████████████| 469/469 [00:18<00:00, 27.24it/s]\n"
     ]
    },
    {
     "name": "stdout",
     "output_type": "stream",
     "text": [
      "\n",
      "Epoch 18--Train set: Average loss: 0.1280, Training Accuracy: 57546/60000 (95.91%)\n",
      "\n",
      "\n",
      "Epoch 18--Test set: Average loss: 0.0536, Validation Accuracy: 9829/10000 (98.29%)\n",
      "\n"
     ]
    },
    {
     "name": "stderr",
     "output_type": "stream",
     "text": [
      "epoch=19 loss=0.09476268291473389 batch_id=468: 100%|████████████████████████████████| 469/469 [00:18<00:00, 26.01it/s]\n"
     ]
    },
    {
     "name": "stdout",
     "output_type": "stream",
     "text": [
      "\n",
      "Epoch 19--Train set: Average loss: 0.0948, Training Accuracy: 57632/60000 (96.05%)\n",
      "\n",
      "\n",
      "Epoch 19--Test set: Average loss: 0.0535, Validation Accuracy: 9837/10000 (98.37%)\n",
      "\n"
     ]
    },
    {
     "name": "stderr",
     "output_type": "stream",
     "text": [
      "epoch=20 loss=0.10934152454137802 batch_id=468: 100%|████████████████████████████████| 469/469 [00:17<00:00, 27.40it/s]\n"
     ]
    },
    {
     "name": "stdout",
     "output_type": "stream",
     "text": [
      "\n",
      "Epoch 20--Train set: Average loss: 0.1093, Training Accuracy: 57641/60000 (96.07%)\n",
      "\n",
      "\n",
      "Epoch 20--Test set: Average loss: 0.0521, Validation Accuracy: 9841/10000 (98.41%)\n",
      "\n"
     ]
    }
   ],
   "source": [
    "model4 = Net4().to(device)\n",
    "optimizer = optim.SGD(model4.parameters(), lr=0.01, momentum=0.9)\n",
    "acc_history = []\n",
    "loss_history = []\n",
    "val_acc_history = []\n",
    "val_loss_history = []\n",
    "for epoch in range(1, 21):\n",
    "    acc, train_loss = train(model4, device, train_loader, optimizer, epoch)\n",
    "    val_acc, test_loss = test(model4, device, test_loader, epoch)\n",
    "    acc_history.append(acc)\n",
    "    loss_history.append(train_loss)\n",
    "    val_acc_history.append(val_acc)\n",
    "    val_loss_history.append(test_loss)"
   ]
  },
  {
   "cell_type": "code",
   "execution_count": 8,
   "metadata": {},
   "outputs": [
    {
     "data": {
      "image/png": "[encoded data removed]",
      "text/plain": [
       "<Figure size 432x288 with 1 Axes>"
      ]
     },
     "metadata": {
      "needs_background": "light"
     },
     "output_type": "display_data"
    }
   ],
   "source": [
    "_= plt.plot(acc_history)\n",
    "_= plt.plot(val_acc_history)\n",
    "_= plt.title('model accuracy')\n",
    "_= plt.ylabel('accuracy')\n",
    "_= plt.xlabel('epoch')\n",
    "_= plt.legend(['train', 'val'], loc='upper left')\n",
    "_= plt.show()"
   ]
  },
  {
   "cell_type": "code",
   "execution_count": 9,
   "metadata": {},
   "outputs": [
    {
     "data": {
      "image/png": "[encoded data removed]",
      "text/plain": [
       "<Figure size 432x288 with 1 Axes>"
      ]
     },
     "metadata": {
      "needs_background": "light"
     },
     "output_type": "display_data"
    }
   ],
   "source": [
    "_= plt.plot(loss_history)\n",
    "_= plt.plot(val_loss_history)\n",
    "_= plt.title('model loss')\n",
    "_= plt.ylabel('loss')\n",
    "_= plt.xlabel('epoch')\n",
    "_= plt.legend(['train', 'val'], loc='upper left')\n",
    "_= plt.show()"
   ]
  },
  {
   "cell_type": "markdown",
   "metadata": {},
   "source": [
    "- Total params: 3,944 (which is expectedly,same as compared to the last NW as dropout doesn't add params) & the max validation accuracy reaches: ~98.4% (though this seems almost comparable to the achieved max in last iteration, but in case of adding Dropout, we have overcome the overfitting issue, by opening up the gap between training and test accuracies...i.e. now we can see that the test accuracy value like ~98% is achieved while the training accuracy is still at ~96%, which has opened up the potential for further increase in the validation accuracy, given we have a required number of epochs and NW-capacity with us.\n",
    "\n",
    "- Also in terms of the accuracy plot, both the train and test accuracies seem to be maintaining almost consistent gap (training accuracy growth is looking stagnant though, but some scope is open)\n",
    "- As a final step for this architecture-option we are required to the given Learning rate value hence that aspect won't be explored further.\n",
    "- But to achieve the required goal we will have to go for a capacity increase now, the next iteration tries to do the same."
   ]
  },
  {
   "cell_type": "code",
   "execution_count": 10,
   "metadata": {},
   "outputs": [],
   "source": [
    "#5th NW: while retaining the same template for the Batch Normalization, Dropout and layering, we now increase the channels\n",
    "# to follow the layering as given below.\n",
    "# The value for 3% for Dropout was giving a better results as compared to other test-ranges from 1-10%\n",
    "# \"|16|--|16-16|--|Transition|--|24-24|--|Transition|--|GAP|--|softmax-classifier|\" as in the table below"
   ]
  },
  {
   "cell_type": "markdown",
   "metadata": {},
   "source": [
    "Input Channels/Image  |  Conv2d/Transform      | Output Channels | RF\n",
    "---------------------|--------------|----------------------|----------------------\n",
    "`28x28x1`              | `(3x3x1)x16`   |      `26x26x16`  |      `3x3`\n",
    "             |          `BN(16)`  |      \n",
    "             |          `Dropout(3%)`  |      \n",
    "             |          `ReLU`  |      \n",
    "**26x26x16**             | **(3x3x16)x16**  |      **24x24x16** |      **5x5** \n",
    "             |          **BN(16)**  |      \n",
    "             |          **Dropout(3%)**  |   \n",
    "             |          **ReLU**  |                 \n",
    "**24x24x16**             | **(3x3x16)x16**  |      **22x22x16** |      **7x7** \n",
    "             |          **BN(16)**  |      \n",
    "             |          **Dropout(3%)**  |   \n",
    "             |          **ReLU**  |                 \n",
    "*22x22x16*             |   *MP(2x2)*    |      *11x11x16*   |      *8x8*                      \n",
    "*11x11x16*             | *(1x1x16)x16*  |      *11x11x16*    |      *8x8*   \n",
    "             |          *BN(16)*  |      \n",
    "             |          *Dropout(3%)*  |  \n",
    "             |          *ReLU*  |                 \n",
    "**11x11x16**             | **(3x3x16)x24**  |      **9x9x24** |      **12x12**  \n",
    "             |          **BN(24)**  |      \n",
    "             |          **Dropout(3%)**  |    \n",
    "             |          **ReLU**  |                 \n",
    "**9x9x24**               | **(3x3x24)x24**  |      **7x7x24**  |      **16x16**   \n",
    "             |          **BN(24)**  |      \n",
    "             |          **Dropout(3%)**  |  \n",
    "             |          **ReLU**  |                 \n",
    "*7x7x24*               | *(1x1x24)x10*  |      *7x7x10*    |      *16x16*  (NO RELU at the o/p of this layer)     \n",
    "7x7x10               | GAP  LAYER   |      1x10          |     "
   ]
  },
  {
   "cell_type": "code",
   "execution_count": 10,
   "metadata": {},
   "outputs": [],
   "source": [
    "class Net5(nn.Module):\n",
    "    def __init__(self):\n",
    "        super(Net5, self).__init__()\n",
    "        self.conv1 = nn.Conv2d(1, 16, 3, bias=False)#input:28x28x1, output:26x26x16, RF:3x3\n",
    "        self.conv1_bn1 = nn.BatchNorm2d(16)\n",
    "        self.conv1_drop1 = nn.Dropout2d(0.03)\n",
    "\n",
    "        self.conv2 = nn.Conv2d(16, 16, 3, bias=False)#input:26x26x16, output:24x24x16, RF:5x5 \n",
    "        self.conv2_bn2 = nn.BatchNorm2d(16)\n",
    "        self.conv2_drop2 = nn.Dropout2d(0.03)\n",
    "        self.conv3 = nn.Conv2d(16, 16, 3, bias=False)#input:24x24x16, output:22x22x16, RF:7x7\n",
    "        self.conv3_bn3 = nn.BatchNorm2d(16)\n",
    "        self.conv3_drop3 = nn.Dropout2d(0.03)\n",
    "\n",
    "        self.pool1 = nn.MaxPool2d(2, 2)#input:22x22x16, output:11x11x16, RF:8x8  \n",
    "        self.conv4 = nn.Conv2d(16, 16, 1, bias=False)#input:11x11x16, output:11x11x16, RF:8x8\n",
    "        self.conv4_bn4 = nn.BatchNorm2d(16)\n",
    "        self.conv4_drop4 = nn.Dropout2d(0.03)\n",
    "\n",
    "        self.conv5 = nn.Conv2d(16, 24, 3, bias=False)#input:11x11x16, output:9x9x24, RF:12x12 \n",
    "        self.conv5_bn5 = nn.BatchNorm2d(24)\n",
    "        self.conv5_drop5 = nn.Dropout2d(0.03)\n",
    "        self.conv6 = nn.Conv2d(24, 24, 3, bias=False)#input:9x9x24, output:7x7x24, RF:16x16\n",
    "        self.conv6_bn6 = nn.BatchNorm2d(24)\n",
    "        self.conv6_drop6 = nn.Dropout2d(0.03)\n",
    "        \n",
    "        self.conv7 = nn.Conv2d(24, 10, 1, bias=False)#input:7x7x24, output:7x7x10, RF:16x16\n",
    "        self.gap1 = nn.AvgPool2d(kernel_size=7)#input:7x7x10, output:1x1x10 (or 1x10, 1-D data format now)\n",
    "        \n",
    "    def forward(self, x):\n",
    "        x = F.relu(self.conv1_drop1(self.conv1_bn1(self.conv1(x))))#First Layer Separate\n",
    "        x = F.relu(self.conv3_drop3(self.conv3_bn3(self.conv3(F.relu(self.conv2_drop2(self.conv2_bn2(self.conv2(x))))))))#First Block\n",
    "        x = F.relu(self.conv4_drop4(self.conv4_bn4(self.conv4(self.pool1(x)))))#First transition block\n",
    "        x = F.relu(self.conv6_drop6(self.conv6_bn6(self.conv6(F.relu(self.conv5_drop5(self.conv5_bn5(self.conv5(x))))))))#Second Block \n",
    "        x = self.conv7(x)#no ReLU at 2nd Transition Block O/p(without a maxpool towards the end here)leading to GAP & beyond) \n",
    "        x = self.gap1(x) # Global Average Pool layer\n",
    "        x = x.view(-1, 10)#Num of classes = 10 (digits to be identified)\n",
    "        return F.log_softmax(x, dim=1)"
   ]
  },
  {
   "cell_type": "code",
   "execution_count": 11,
   "metadata": {},
   "outputs": [
    {
     "name": "stdout",
     "output_type": "stream",
     "text": [
      "----------------------------------------------------------------\n",
      "        Layer (type)               Output Shape         Param #\n",
      "================================================================\n",
      "            Conv2d-1           [-1, 16, 26, 26]             144\n",
      "       BatchNorm2d-2           [-1, 16, 26, 26]              32\n",
      "         Dropout2d-3           [-1, 16, 26, 26]               0\n",
      "            Conv2d-4           [-1, 16, 24, 24]           2,304\n",
      "       BatchNorm2d-5           [-1, 16, 24, 24]              32\n",
      "         Dropout2d-6           [-1, 16, 24, 24]               0\n",
      "            Conv2d-7           [-1, 16, 22, 22]           2,304\n",
      "       BatchNorm2d-8           [-1, 16, 22, 22]              32\n",
      "         Dropout2d-9           [-1, 16, 22, 22]               0\n",
      "        MaxPool2d-10           [-1, 16, 11, 11]               0\n",
      "           Conv2d-11           [-1, 16, 11, 11]             256\n",
      "      BatchNorm2d-12           [-1, 16, 11, 11]              32\n",
      "        Dropout2d-13           [-1, 16, 11, 11]               0\n",
      "           Conv2d-14             [-1, 24, 9, 9]           3,456\n",
      "      BatchNorm2d-15             [-1, 24, 9, 9]              48\n",
      "        Dropout2d-16             [-1, 24, 9, 9]               0\n",
      "           Conv2d-17             [-1, 24, 7, 7]           5,184\n",
      "      BatchNorm2d-18             [-1, 24, 7, 7]              48\n",
      "        Dropout2d-19             [-1, 24, 7, 7]               0\n",
      "           Conv2d-20             [-1, 10, 7, 7]             240\n",
      "        AvgPool2d-21             [-1, 10, 1, 1]               0\n",
      "================================================================\n",
      "Total params: 14,112\n",
      "Trainable params: 14,112\n",
      "Non-trainable params: 0\n",
      "----------------------------------------------------------------\n",
      "Input size (MB): 0.00\n",
      "Forward/backward pass size (MB): 0.77\n",
      "Params size (MB): 0.05\n",
      "Estimated Total Size (MB): 0.83\n",
      "----------------------------------------------------------------\n"
     ]
    }
   ],
   "source": [
    "use_cuda = torch.cuda.is_available()\n",
    "device = torch.device(\"cuda\" if use_cuda else \"cpu\")\n",
    "model5 = Net5().to(device)\n",
    "summary(model5, input_size=(1, 28, 28))"
   ]
  },
  {
   "cell_type": "code",
   "execution_count": 12,
   "metadata": {},
   "outputs": [
    {
     "data": {
      "text/plain": [
       "<torch._C.Generator at 0x23355099230>"
      ]
     },
     "execution_count": 12,
     "metadata": {},
     "output_type": "execute_result"
    }
   ],
   "source": [
    "torch.manual_seed(1)\n",
    "batch_size = 64\n",
    "\n",
    "kwargs = {'num_workers': 1, 'pin_memory': True} if use_cuda else {}\n",
    "train_loader = torch.utils.data.DataLoader(\n",
    "    datasets.MNIST('../data', train=True, download=True,\n",
    "                    transform=transforms.Compose([\n",
    "                        transforms.ToTensor(),\n",
    "                        transforms.Normalize((0.1307,), (0.3081,))\n",
    "                    ])),\n",
    "    batch_size=batch_size, shuffle=True, **kwargs)\n",
    "test_loader = torch.utils.data.DataLoader(\n",
    "    datasets.MNIST('../data', train=False, transform=transforms.Compose([\n",
    "                        transforms.ToTensor(),\n",
    "                        transforms.Normalize((0.1307,), (0.3081,))\n",
    "                    ])),\n",
    "    batch_size=batch_size, shuffle=True, **kwargs)"
   ]
  },
  {
   "cell_type": "code",
   "execution_count": 13,
   "metadata": {
    "scrolled": false
   },
   "outputs": [
    {
     "name": "stderr",
     "output_type": "stream",
     "text": [
      "epoch=1 loss=0.24695727229118347 batch_id=937: 100%|█████████████████████████████████| 938/938 [00:17<00:00, 53.41it/s]\n"
     ]
    },
    {
     "name": "stdout",
     "output_type": "stream",
     "text": [
      "\n",
      "Epoch 1--Train set: Average loss: 0.2470, Training Accuracy: 50740/60000 (84.57%)\n",
      "\n",
      "\n",
      "Epoch 1--Test set: Average loss: 0.0878, Validation Accuracy: 9805/10000 (98.05%)\n",
      "\n"
     ]
    },
    {
     "name": "stderr",
     "output_type": "stream",
     "text": [
      "epoch=2 loss=0.10117413103580475 batch_id=937: 100%|█████████████████████████████████| 938/938 [00:20<00:00, 44.78it/s]\n"
     ]
    },
    {
     "name": "stdout",
     "output_type": "stream",
     "text": [
      "\n",
      "Epoch 2--Train set: Average loss: 0.1012, Training Accuracy: 57848/60000 (96.41%)\n",
      "\n",
      "\n",
      "Epoch 2--Test set: Average loss: 0.0527, Validation Accuracy: 9857/10000 (98.57%)\n",
      "\n"
     ]
    },
    {
     "name": "stderr",
     "output_type": "stream",
     "text": [
      "epoch=3 loss=0.05008406937122345 batch_id=937: 100%|█████████████████████████████████| 938/938 [00:20<00:00, 46.56it/s]\n"
     ]
    },
    {
     "name": "stdout",
     "output_type": "stream",
     "text": [
      "\n",
      "Epoch 3--Train set: Average loss: 0.0501, Training Accuracy: 58466/60000 (97.44%)\n",
      "\n",
      "\n",
      "Epoch 3--Test set: Average loss: 0.0373, Validation Accuracy: 9890/10000 (98.90%)\n",
      "\n"
     ]
    },
    {
     "name": "stderr",
     "output_type": "stream",
     "text": [
      "epoch=4 loss=0.0396733433008194 batch_id=937: 100%|██████████████████████████████████| 938/938 [00:21<00:00, 44.29it/s]\n"
     ]
    },
    {
     "name": "stdout",
     "output_type": "stream",
     "text": [
      "\n",
      "Epoch 4--Train set: Average loss: 0.0397, Training Accuracy: 58661/60000 (97.77%)\n",
      "\n",
      "\n",
      "Epoch 4--Test set: Average loss: 0.0331, Validation Accuracy: 9902/10000 (99.02%)\n",
      "\n"
     ]
    },
    {
     "name": "stderr",
     "output_type": "stream",
     "text": [
      "epoch=5 loss=0.009025141596794128 batch_id=937: 100%|████████████████████████████████| 938/938 [00:21<00:00, 44.38it/s]\n"
     ]
    },
    {
     "name": "stdout",
     "output_type": "stream",
     "text": [
      "\n",
      "Epoch 5--Train set: Average loss: 0.0090, Training Accuracy: 58782/60000 (97.97%)\n",
      "\n",
      "\n",
      "Epoch 5--Test set: Average loss: 0.0305, Validation Accuracy: 9905/10000 (99.05%)\n",
      "\n"
     ]
    },
    {
     "name": "stderr",
     "output_type": "stream",
     "text": [
      "epoch=6 loss=0.04769548773765564 batch_id=937: 100%|█████████████████████████████████| 938/938 [00:21<00:00, 43.98it/s]\n"
     ]
    },
    {
     "name": "stdout",
     "output_type": "stream",
     "text": [
      "\n",
      "Epoch 6--Train set: Average loss: 0.0477, Training Accuracy: 58883/60000 (98.14%)\n",
      "\n",
      "\n",
      "Epoch 6--Test set: Average loss: 0.0275, Validation Accuracy: 9914/10000 (99.14%)\n",
      "\n"
     ]
    },
    {
     "name": "stderr",
     "output_type": "stream",
     "text": [
      "epoch=7 loss=0.033467262983322144 batch_id=937: 100%|████████████████████████████████| 938/938 [00:20<00:00, 45.82it/s]\n"
     ]
    },
    {
     "name": "stdout",
     "output_type": "stream",
     "text": [
      "\n",
      "Epoch 7--Train set: Average loss: 0.0335, Training Accuracy: 58990/60000 (98.32%)\n",
      "\n",
      "\n",
      "Epoch 7--Test set: Average loss: 0.0253, Validation Accuracy: 9923/10000 (99.23%)\n",
      "\n"
     ]
    },
    {
     "name": "stderr",
     "output_type": "stream",
     "text": [
      "epoch=8 loss=0.06352145969867706 batch_id=937: 100%|█████████████████████████████████| 938/938 [00:21<00:00, 42.98it/s]\n"
     ]
    },
    {
     "name": "stdout",
     "output_type": "stream",
     "text": [
      "\n",
      "Epoch 8--Train set: Average loss: 0.0635, Training Accuracy: 58975/60000 (98.29%)\n",
      "\n",
      "\n",
      "Epoch 8--Test set: Average loss: 0.0253, Validation Accuracy: 9917/10000 (99.17%)\n",
      "\n"
     ]
    },
    {
     "name": "stderr",
     "output_type": "stream",
     "text": [
      "epoch=9 loss=0.09636054933071136 batch_id=937: 100%|█████████████████████████████████| 938/938 [00:20<00:00, 44.70it/s]\n"
     ]
    },
    {
     "name": "stdout",
     "output_type": "stream",
     "text": [
      "\n",
      "Epoch 9--Train set: Average loss: 0.0964, Training Accuracy: 59030/60000 (98.38%)\n",
      "\n",
      "\n",
      "Epoch 9--Test set: Average loss: 0.0223, Validation Accuracy: 9931/10000 (99.31%)\n",
      "\n"
     ]
    },
    {
     "name": "stderr",
     "output_type": "stream",
     "text": [
      "epoch=10 loss=0.01684170961380005 batch_id=937: 100%|████████████████████████████████| 938/938 [00:21<00:00, 42.92it/s]\n"
     ]
    },
    {
     "name": "stdout",
     "output_type": "stream",
     "text": [
      "\n",
      "Epoch 10--Train set: Average loss: 0.0168, Training Accuracy: 59097/60000 (98.50%)\n",
      "\n",
      "\n",
      "Epoch 10--Test set: Average loss: 0.0214, Validation Accuracy: 9933/10000 (99.33%)\n",
      "\n"
     ]
    },
    {
     "name": "stderr",
     "output_type": "stream",
     "text": [
      "epoch=11 loss=0.06998667120933533 batch_id=937: 100%|████████████████████████████████| 938/938 [00:21<00:00, 44.58it/s]\n"
     ]
    },
    {
     "name": "stdout",
     "output_type": "stream",
     "text": [
      "\n",
      "Epoch 11--Train set: Average loss: 0.0700, Training Accuracy: 59086/60000 (98.48%)\n",
      "\n",
      "\n",
      "Epoch 11--Test set: Average loss: 0.0227, Validation Accuracy: 9930/10000 (99.30%)\n",
      "\n"
     ]
    },
    {
     "name": "stderr",
     "output_type": "stream",
     "text": [
      "epoch=12 loss=0.24019618332386017 batch_id=937: 100%|████████████████████████████████| 938/938 [00:21<00:00, 43.02it/s]\n"
     ]
    },
    {
     "name": "stdout",
     "output_type": "stream",
     "text": [
      "\n",
      "Epoch 12--Train set: Average loss: 0.2402, Training Accuracy: 59111/60000 (98.52%)\n",
      "\n",
      "\n",
      "Epoch 12--Test set: Average loss: 0.0205, Validation Accuracy: 9943/10000 (99.43%)\n",
      "\n"
     ]
    },
    {
     "name": "stderr",
     "output_type": "stream",
     "text": [
      "epoch=13 loss=0.17071953415870667 batch_id=937: 100%|████████████████████████████████| 938/938 [00:21<00:00, 43.51it/s]\n"
     ]
    },
    {
     "name": "stdout",
     "output_type": "stream",
     "text": [
      "\n",
      "Epoch 13--Train set: Average loss: 0.1707, Training Accuracy: 59157/60000 (98.59%)\n",
      "\n",
      "\n",
      "Epoch 13--Test set: Average loss: 0.0189, Validation Accuracy: 9949/10000 (99.49%)\n",
      "\n"
     ]
    },
    {
     "name": "stderr",
     "output_type": "stream",
     "text": [
      "epoch=14 loss=0.041865766048431396 batch_id=937: 100%|███████████████████████████████| 938/938 [00:21<00:00, 44.55it/s]\n"
     ]
    },
    {
     "name": "stdout",
     "output_type": "stream",
     "text": [
      "\n",
      "Epoch 14--Train set: Average loss: 0.0419, Training Accuracy: 59237/60000 (98.73%)\n",
      "\n",
      "\n",
      "Epoch 14--Test set: Average loss: 0.0224, Validation Accuracy: 9923/10000 (99.23%)\n",
      "\n"
     ]
    },
    {
     "name": "stderr",
     "output_type": "stream",
     "text": [
      "epoch=15 loss=0.036569446325302124 batch_id=937: 100%|███████████████████████████████| 938/938 [00:21<00:00, 43.28it/s]\n"
     ]
    },
    {
     "name": "stdout",
     "output_type": "stream",
     "text": [
      "\n",
      "Epoch 15--Train set: Average loss: 0.0366, Training Accuracy: 59190/60000 (98.65%)\n",
      "\n",
      "\n",
      "Epoch 15--Test set: Average loss: 0.0196, Validation Accuracy: 9940/10000 (99.40%)\n",
      "\n"
     ]
    },
    {
     "name": "stderr",
     "output_type": "stream",
     "text": [
      "epoch=16 loss=0.04074643552303314 batch_id=937: 100%|████████████████████████████████| 938/938 [00:21<00:00, 43.41it/s]\n"
     ]
    },
    {
     "name": "stdout",
     "output_type": "stream",
     "text": [
      "\n",
      "Epoch 16--Train set: Average loss: 0.0407, Training Accuracy: 59251/60000 (98.75%)\n",
      "\n",
      "\n",
      "Epoch 16--Test set: Average loss: 0.0198, Validation Accuracy: 9944/10000 (99.44%)\n",
      "\n"
     ]
    },
    {
     "name": "stderr",
     "output_type": "stream",
     "text": [
      "epoch=17 loss=0.011231973767280579 batch_id=937: 100%|███████████████████████████████| 938/938 [00:21<00:00, 43.52it/s]\n"
     ]
    },
    {
     "name": "stdout",
     "output_type": "stream",
     "text": [
      "\n",
      "Epoch 17--Train set: Average loss: 0.0112, Training Accuracy: 59259/60000 (98.77%)\n",
      "\n",
      "\n",
      "Epoch 17--Test set: Average loss: 0.0189, Validation Accuracy: 9942/10000 (99.42%)\n",
      "\n"
     ]
    },
    {
     "name": "stderr",
     "output_type": "stream",
     "text": [
      "epoch=18 loss=0.008846849203109741 batch_id=937: 100%|███████████████████████████████| 938/938 [00:21<00:00, 44.03it/s]\n"
     ]
    },
    {
     "name": "stdout",
     "output_type": "stream",
     "text": [
      "\n",
      "Epoch 18--Train set: Average loss: 0.0088, Training Accuracy: 59313/60000 (98.86%)\n",
      "\n",
      "\n",
      "Epoch 18--Test set: Average loss: 0.0178, Validation Accuracy: 9947/10000 (99.47%)\n",
      "\n"
     ]
    },
    {
     "name": "stderr",
     "output_type": "stream",
     "text": [
      "epoch=19 loss=0.04289734363555908 batch_id=937: 100%|████████████████████████████████| 938/938 [00:21<00:00, 42.78it/s]\n"
     ]
    },
    {
     "name": "stdout",
     "output_type": "stream",
     "text": [
      "\n",
      "Epoch 19--Train set: Average loss: 0.0429, Training Accuracy: 59279/60000 (98.80%)\n",
      "\n",
      "\n",
      "Epoch 19--Test set: Average loss: 0.0195, Validation Accuracy: 9937/10000 (99.37%)\n",
      "\n"
     ]
    },
    {
     "name": "stderr",
     "output_type": "stream",
     "text": [
      "epoch=20 loss=0.001962423324584961 batch_id=937: 100%|███████████████████████████████| 938/938 [00:21<00:00, 42.83it/s]\n"
     ]
    },
    {
     "name": "stdout",
     "output_type": "stream",
     "text": [
      "\n",
      "Epoch 20--Train set: Average loss: 0.0020, Training Accuracy: 59311/60000 (98.85%)\n",
      "\n",
      "\n",
      "Epoch 20--Test set: Average loss: 0.0167, Validation Accuracy: 9954/10000 (99.54%)\n",
      "\n"
     ]
    }
   ],
   "source": [
    "model5 = Net5().to(device)\n",
    "optimizer = optim.SGD(model5.parameters(), lr=0.01, momentum=0.9)\n",
    "acc_history = []\n",
    "loss_history = []\n",
    "val_acc_history = []\n",
    "val_loss_history = []\n",
    "for epoch in range(1, 21):\n",
    "    acc, train_loss = train(model5, device, train_loader, optimizer, epoch)\n",
    "    val_acc, test_loss = test(model5, device, test_loader, epoch)\n",
    "    acc_history.append(acc)\n",
    "    loss_history.append(train_loss)\n",
    "    val_acc_history.append(val_acc)\n",
    "    val_loss_history.append(test_loss)"
   ]
  },
  {
   "cell_type": "code",
   "execution_count": 14,
   "metadata": {},
   "outputs": [
    {
     "data": {
      "image/png": "[encoded data removed]",
      "text/plain": [
       "<Figure size 432x288 with 1 Axes>"
      ]
     },
     "metadata": {
      "needs_background": "light"
     },
     "output_type": "display_data"
    }
   ],
   "source": [
    "_= plt.plot(acc_history)\n",
    "_= plt.plot(val_acc_history)\n",
    "_= plt.title('model accuracy')\n",
    "_= plt.ylabel('accuracy')\n",
    "_= plt.xlabel('epoch')\n",
    "_= plt.legend(['train', 'val'], loc='upper left')\n",
    "_= plt.show()"
   ]
  },
  {
   "cell_type": "code",
   "execution_count": 15,
   "metadata": {},
   "outputs": [
    {
     "data": {
      "image/png": "[encoded data removed]",
      "text/plain": [
       "<Figure size 432x288 with 1 Axes>"
      ]
     },
     "metadata": {
      "needs_background": "light"
     },
     "output_type": "display_data"
    }
   ],
   "source": [
    "_= plt.plot(loss_history)\n",
    "_= plt.plot(val_loss_history)\n",
    "_= plt.title('model loss')\n",
    "_= plt.ylabel('loss')\n",
    "_= plt.xlabel('epoch')\n",
    "_= plt.legend(['train', 'val'], loc='upper left')\n",
    "_= plt.show()"
   ]
  },
  {
   "cell_type": "markdown",
   "metadata": {},
   "source": [
    "- Total params:  14,112 (which is expected,given higher NW capacity) & the max validation accuracy reaches: ~99.54% \n",
    "\n",
    "- This case meets the required goal of getting an accuracy of 99.4% (appeared 5 times during training-epochs), the parameters: 14,112 < 20K (requirement) and came under 20 epochs."
   ]
  }
 ],
 "metadata": {
  "accelerator": "GPU",
  "colab": {
   "name": "EVA4 - Session 2.ipynb",
   "provenance": []
  },
  "kernelspec": {
   "display_name": "Python 3",
   "language": "python",
   "name": "python3"
  },
  "language_info": {
   "codemirror_mode": {
    "name": "ipython",
    "version": 3
   },
   "file_extension": ".py",
   "mimetype": "text/x-python",
   "name": "python",
   "nbconvert_exporter": "python",
   "pygments_lexer": "ipython3",
   "version": "3.6.7"
  }
 },
 "nbformat": 4,
 "nbformat_minor": 1
}
